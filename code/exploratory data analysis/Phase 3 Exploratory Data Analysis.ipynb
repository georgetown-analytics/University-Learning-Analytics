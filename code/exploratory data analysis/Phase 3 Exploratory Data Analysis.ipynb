{
 "cells": [
  {
   "cell_type": "markdown",
   "metadata": {},
   "source": [
    "# Import Packages for EDA"
   ]
  },
  {
   "cell_type": "markdown",
   "metadata": {},
   "source": [
    "We chose the following packages to conduct our EDA."
   ]
  },
  {
   "cell_type": "code",
   "execution_count": 1,
   "metadata": {},
   "outputs": [],
   "source": [
    "import psycopg2\n",
    "import pandas as pd\n",
    "import pandas.io.sql as pd_sql\n",
    "import matplotlib.pyplot as plt\n",
    "import numpy as np\n",
    "import seaborn as sns\n",
    "import missingno as mn\n",
    "import os\n",
    "import yellowbrick \n",
    "\n",
    "from pandas.plotting import scatter_matrix\n",
    "\n",
    "import warnings\n",
    "warnings.simplefilter(action='ignore', category=FutureWarning)"
   ]
  },
  {
   "cell_type": "code",
   "execution_count": 2,
   "metadata": {},
   "outputs": [],
   "source": [
    "def connectDB(DB):\n",
    "    # connect to the PostgreSQL server\n",
    "    return psycopg2.connect(\n",
    "        database=DB,\n",
    "        user=\"postgres\",\n",
    "        password=\"Georgetown16\",\n",
    "        host=\"database-1.c5vispb5ezxg.us-east-1.rds.amazonaws.com\",\n",
    "        port='5432')\n",
    "\n",
    "def disconnectDB():\n",
    "    cur.close()\n",
    "    conn.close()"
   ]
  },
  {
   "cell_type": "code",
   "execution_count": 3,
   "metadata": {},
   "outputs": [
    {
     "data": {
      "text/html": [
       "<div>\n",
       "<style scoped>\n",
       "    .dataframe tbody tr th:only-of-type {\n",
       "        vertical-align: middle;\n",
       "    }\n",
       "\n",
       "    .dataframe tbody tr th {\n",
       "        vertical-align: top;\n",
       "    }\n",
       "\n",
       "    .dataframe thead th {\n",
       "        text-align: right;\n",
       "    }\n",
       "</style>\n",
       "<table border=\"1\" class=\"dataframe\">\n",
       "  <thead>\n",
       "    <tr style=\"text-align: right;\">\n",
       "      <th></th>\n",
       "      <th>index</th>\n",
       "      <th>Scotland</th>\n",
       "      <th>East Anglian Region</th>\n",
       "      <th>London Region</th>\n",
       "      <th>South Region</th>\n",
       "      <th>North Western Region</th>\n",
       "      <th>West Midlands Region</th>\n",
       "      <th>South West Region</th>\n",
       "      <th>East Midlands Region</th>\n",
       "      <th>South East Region</th>\n",
       "      <th>Wales</th>\n",
       "      <th>Yorkshire Region</th>\n",
       "      <th>North Region</th>\n",
       "      <th>Ireland</th>\n",
       "      <th>id_student</th>\n",
       "      <th>code_module</th>\n",
       "      <th>module_domain</th>\n",
       "      <th>module_presentation_length</th>\n",
       "      <th>term</th>\n",
       "      <th>year</th>\n",
       "      <th>num_of_prev_attempts</th>\n",
       "      <th>final_result</th>\n",
       "      <th>date_registration</th>\n",
       "      <th>disability</th>\n",
       "      <th>gender</th>\n",
       "      <th>age_band</th>\n",
       "      <th>region</th>\n",
       "      <th>highest_education</th>\n",
       "      <th>imd_band</th>\n",
       "      <th>studied_credits</th>\n",
       "      <th>b4_sum_clicks</th>\n",
       "      <th>qtr_sum_clicks</th>\n",
       "      <th>half_sum_clicks</th>\n",
       "      <th>threeqtr_sum_clicks</th>\n",
       "      <th>qtr_half_sum_clicks</th>\n",
       "      <th>half_threeqtr_sum_clicks</th>\n",
       "      <th>thrd_sum_clicks</th>\n",
       "      <th>twothrd_sum_clicks</th>\n",
       "      <th>thrd_twothrd_sum_clicks</th>\n",
       "      <th>allclicks</th>\n",
       "      <th>std_half_score</th>\n",
       "    </tr>\n",
       "  </thead>\n",
       "  <tbody>\n",
       "    <tr>\n",
       "      <th>0</th>\n",
       "      <td>0</td>\n",
       "      <td>0</td>\n",
       "      <td>0</td>\n",
       "      <td>0</td>\n",
       "      <td>1</td>\n",
       "      <td>0</td>\n",
       "      <td>0</td>\n",
       "      <td>0</td>\n",
       "      <td>0</td>\n",
       "      <td>0</td>\n",
       "      <td>0</td>\n",
       "      <td>0</td>\n",
       "      <td>0</td>\n",
       "      <td>0</td>\n",
       "      <td>3733</td>\n",
       "      <td>3</td>\n",
       "      <td>1</td>\n",
       "      <td>261</td>\n",
       "      <td>0</td>\n",
       "      <td>0</td>\n",
       "      <td>0</td>\n",
       "      <td>0</td>\n",
       "      <td>-68.0</td>\n",
       "      <td>0</td>\n",
       "      <td>0</td>\n",
       "      <td>2</td>\n",
       "      <td>3</td>\n",
       "      <td>3</td>\n",
       "      <td>9.0</td>\n",
       "      <td>60</td>\n",
       "      <td>0.0</td>\n",
       "      <td>0.0</td>\n",
       "      <td>0.0</td>\n",
       "      <td>0.0</td>\n",
       "      <td>0.0</td>\n",
       "      <td>0.0</td>\n",
       "      <td>0.0</td>\n",
       "      <td>0.0</td>\n",
       "      <td>0.0</td>\n",
       "      <td>0.0</td>\n",
       "      <td>0.000000</td>\n",
       "    </tr>\n",
       "    <tr>\n",
       "      <th>1</th>\n",
       "      <td>1</td>\n",
       "      <td>1</td>\n",
       "      <td>0</td>\n",
       "      <td>0</td>\n",
       "      <td>0</td>\n",
       "      <td>0</td>\n",
       "      <td>0</td>\n",
       "      <td>0</td>\n",
       "      <td>0</td>\n",
       "      <td>0</td>\n",
       "      <td>0</td>\n",
       "      <td>0</td>\n",
       "      <td>0</td>\n",
       "      <td>0</td>\n",
       "      <td>6516</td>\n",
       "      <td>0</td>\n",
       "      <td>0</td>\n",
       "      <td>269</td>\n",
       "      <td>0</td>\n",
       "      <td>1</td>\n",
       "      <td>0</td>\n",
       "      <td>1</td>\n",
       "      <td>-52.0</td>\n",
       "      <td>0</td>\n",
       "      <td>0</td>\n",
       "      <td>2</td>\n",
       "      <td>0</td>\n",
       "      <td>3</td>\n",
       "      <td>8.0</td>\n",
       "      <td>60</td>\n",
       "      <td>256.0</td>\n",
       "      <td>862.0</td>\n",
       "      <td>1347.0</td>\n",
       "      <td>2066.0</td>\n",
       "      <td>513.0</td>\n",
       "      <td>719.0</td>\n",
       "      <td>1040.0</td>\n",
       "      <td>1875.0</td>\n",
       "      <td>307.0</td>\n",
       "      <td>2791.0</td>\n",
       "      <td>0.564000</td>\n",
       "    </tr>\n",
       "    <tr>\n",
       "      <th>2</th>\n",
       "      <td>2</td>\n",
       "      <td>0</td>\n",
       "      <td>0</td>\n",
       "      <td>1</td>\n",
       "      <td>0</td>\n",
       "      <td>0</td>\n",
       "      <td>0</td>\n",
       "      <td>0</td>\n",
       "      <td>0</td>\n",
       "      <td>0</td>\n",
       "      <td>0</td>\n",
       "      <td>0</td>\n",
       "      <td>0</td>\n",
       "      <td>0</td>\n",
       "      <td>8462</td>\n",
       "      <td>3</td>\n",
       "      <td>1</td>\n",
       "      <td>261</td>\n",
       "      <td>0</td>\n",
       "      <td>0</td>\n",
       "      <td>0</td>\n",
       "      <td>0</td>\n",
       "      <td>-137.0</td>\n",
       "      <td>0</td>\n",
       "      <td>0</td>\n",
       "      <td>2</td>\n",
       "      <td>2</td>\n",
       "      <td>3</td>\n",
       "      <td>3.0</td>\n",
       "      <td>90</td>\n",
       "      <td>81.0</td>\n",
       "      <td>446.0</td>\n",
       "      <td>565.0</td>\n",
       "      <td>565.0</td>\n",
       "      <td>119.0</td>\n",
       "      <td>0.0</td>\n",
       "      <td>525.0</td>\n",
       "      <td>565.0</td>\n",
       "      <td>40.0</td>\n",
       "      <td>646.0</td>\n",
       "      <td>0.581667</td>\n",
       "    </tr>\n",
       "    <tr>\n",
       "      <th>3</th>\n",
       "      <td>3</td>\n",
       "      <td>0</td>\n",
       "      <td>0</td>\n",
       "      <td>1</td>\n",
       "      <td>0</td>\n",
       "      <td>0</td>\n",
       "      <td>0</td>\n",
       "      <td>0</td>\n",
       "      <td>0</td>\n",
       "      <td>0</td>\n",
       "      <td>0</td>\n",
       "      <td>0</td>\n",
       "      <td>0</td>\n",
       "      <td>0</td>\n",
       "      <td>8462</td>\n",
       "      <td>3</td>\n",
       "      <td>1</td>\n",
       "      <td>262</td>\n",
       "      <td>0</td>\n",
       "      <td>1</td>\n",
       "      <td>1</td>\n",
       "      <td>0</td>\n",
       "      <td>-38.0</td>\n",
       "      <td>0</td>\n",
       "      <td>0</td>\n",
       "      <td>2</td>\n",
       "      <td>2</td>\n",
       "      <td>3</td>\n",
       "      <td>3.0</td>\n",
       "      <td>60</td>\n",
       "      <td>0.0</td>\n",
       "      <td>0.0</td>\n",
       "      <td>0.0</td>\n",
       "      <td>0.0</td>\n",
       "      <td>0.0</td>\n",
       "      <td>0.0</td>\n",
       "      <td>0.0</td>\n",
       "      <td>0.0</td>\n",
       "      <td>0.0</td>\n",
       "      <td>0.0</td>\n",
       "      <td>0.860000</td>\n",
       "    </tr>\n",
       "    <tr>\n",
       "      <th>4</th>\n",
       "      <td>4</td>\n",
       "      <td>0</td>\n",
       "      <td>1</td>\n",
       "      <td>0</td>\n",
       "      <td>0</td>\n",
       "      <td>0</td>\n",
       "      <td>0</td>\n",
       "      <td>0</td>\n",
       "      <td>0</td>\n",
       "      <td>0</td>\n",
       "      <td>0</td>\n",
       "      <td>0</td>\n",
       "      <td>0</td>\n",
       "      <td>0</td>\n",
       "      <td>11391</td>\n",
       "      <td>0</td>\n",
       "      <td>0</td>\n",
       "      <td>268</td>\n",
       "      <td>0</td>\n",
       "      <td>0</td>\n",
       "      <td>0</td>\n",
       "      <td>1</td>\n",
       "      <td>-159.0</td>\n",
       "      <td>0</td>\n",
       "      <td>0</td>\n",
       "      <td>2</td>\n",
       "      <td>1</td>\n",
       "      <td>3</td>\n",
       "      <td>9.0</td>\n",
       "      <td>240</td>\n",
       "      <td>98.0</td>\n",
       "      <td>447.0</td>\n",
       "      <td>612.0</td>\n",
       "      <td>650.0</td>\n",
       "      <td>165.0</td>\n",
       "      <td>38.0</td>\n",
       "      <td>489.0</td>\n",
       "      <td>615.0</td>\n",
       "      <td>123.0</td>\n",
       "      <td>934.0</td>\n",
       "      <td>0.816000</td>\n",
       "    </tr>\n",
       "  </tbody>\n",
       "</table>\n",
       "</div>"
      ],
      "text/plain": [
       "   index  Scotland  East Anglian Region  London Region  South Region  \\\n",
       "0      0         0                    0              0             1   \n",
       "1      1         1                    0              0             0   \n",
       "2      2         0                    0              1             0   \n",
       "3      3         0                    0              1             0   \n",
       "4      4         0                    1              0             0   \n",
       "\n",
       "   North Western Region  West Midlands Region  South West Region  \\\n",
       "0                     0                     0                  0   \n",
       "1                     0                     0                  0   \n",
       "2                     0                     0                  0   \n",
       "3                     0                     0                  0   \n",
       "4                     0                     0                  0   \n",
       "\n",
       "   East Midlands Region  South East Region  Wales  Yorkshire Region  \\\n",
       "0                     0                  0      0                 0   \n",
       "1                     0                  0      0                 0   \n",
       "2                     0                  0      0                 0   \n",
       "3                     0                  0      0                 0   \n",
       "4                     0                  0      0                 0   \n",
       "\n",
       "   North Region  Ireland  id_student  code_module  module_domain  \\\n",
       "0             0        0        3733            3              1   \n",
       "1             0        0        6516            0              0   \n",
       "2             0        0        8462            3              1   \n",
       "3             0        0        8462            3              1   \n",
       "4             0        0       11391            0              0   \n",
       "\n",
       "   module_presentation_length  term  year  num_of_prev_attempts  final_result  \\\n",
       "0                         261     0     0                     0             0   \n",
       "1                         269     0     1                     0             1   \n",
       "2                         261     0     0                     0             0   \n",
       "3                         262     0     1                     1             0   \n",
       "4                         268     0     0                     0             1   \n",
       "\n",
       "   date_registration  disability  gender  age_band  region  highest_education  \\\n",
       "0              -68.0           0       0         2       3                  3   \n",
       "1              -52.0           0       0         2       0                  3   \n",
       "2             -137.0           0       0         2       2                  3   \n",
       "3              -38.0           0       0         2       2                  3   \n",
       "4             -159.0           0       0         2       1                  3   \n",
       "\n",
       "   imd_band  studied_credits  b4_sum_clicks  qtr_sum_clicks  half_sum_clicks  \\\n",
       "0       9.0               60            0.0             0.0              0.0   \n",
       "1       8.0               60          256.0           862.0           1347.0   \n",
       "2       3.0               90           81.0           446.0            565.0   \n",
       "3       3.0               60            0.0             0.0              0.0   \n",
       "4       9.0              240           98.0           447.0            612.0   \n",
       "\n",
       "   threeqtr_sum_clicks  qtr_half_sum_clicks  half_threeqtr_sum_clicks  \\\n",
       "0                  0.0                  0.0                       0.0   \n",
       "1               2066.0                513.0                     719.0   \n",
       "2                565.0                119.0                       0.0   \n",
       "3                  0.0                  0.0                       0.0   \n",
       "4                650.0                165.0                      38.0   \n",
       "\n",
       "   thrd_sum_clicks  twothrd_sum_clicks  thrd_twothrd_sum_clicks  allclicks  \\\n",
       "0              0.0                 0.0                      0.0        0.0   \n",
       "1           1040.0              1875.0                    307.0     2791.0   \n",
       "2            525.0               565.0                     40.0      646.0   \n",
       "3              0.0                 0.0                      0.0        0.0   \n",
       "4            489.0               615.0                    123.0      934.0   \n",
       "\n",
       "   std_half_score  \n",
       "0        0.000000  \n",
       "1        0.564000  \n",
       "2        0.581667  \n",
       "3        0.860000  \n",
       "4        0.816000  "
      ]
     },
     "execution_count": 3,
     "metadata": {},
     "output_type": "execute_result"
    }
   ],
   "source": [
    "# connect to \"Dataset\" DB \n",
    "conn = connectDB(\"Dataset\")\n",
    "\n",
    "# extract everything from 'table_name' into a dataframe\n",
    "df = pd_sql.read_sql(f\"select * from public.\\\"FinalData\\\" \", con=conn)\n",
    "pd.set_option('display.max_column',50)\n",
    "df.head()"
   ]
  },
  {
   "cell_type": "markdown",
   "metadata": {},
   "source": [
    "# Phase 3 Exploratory Data Analysis"
   ]
  },
  {
   "cell_type": "code",
   "execution_count": 4,
   "metadata": {},
   "outputs": [
    {
     "data": {
      "text/html": [
       "<div>\n",
       "<style scoped>\n",
       "    .dataframe tbody tr th:only-of-type {\n",
       "        vertical-align: middle;\n",
       "    }\n",
       "\n",
       "    .dataframe tbody tr th {\n",
       "        vertical-align: top;\n",
       "    }\n",
       "\n",
       "    .dataframe thead th {\n",
       "        text-align: right;\n",
       "    }\n",
       "</style>\n",
       "<table border=\"1\" class=\"dataframe\">\n",
       "  <thead>\n",
       "    <tr style=\"text-align: right;\">\n",
       "      <th></th>\n",
       "      <th>index</th>\n",
       "      <th>Scotland</th>\n",
       "      <th>East Anglian Region</th>\n",
       "      <th>London Region</th>\n",
       "      <th>South Region</th>\n",
       "      <th>North Western Region</th>\n",
       "      <th>West Midlands Region</th>\n",
       "      <th>South West Region</th>\n",
       "      <th>East Midlands Region</th>\n",
       "      <th>South East Region</th>\n",
       "      <th>Wales</th>\n",
       "      <th>Yorkshire Region</th>\n",
       "      <th>North Region</th>\n",
       "      <th>Ireland</th>\n",
       "      <th>id_student</th>\n",
       "      <th>code_module</th>\n",
       "      <th>module_domain</th>\n",
       "      <th>module_presentation_length</th>\n",
       "      <th>term</th>\n",
       "      <th>year</th>\n",
       "      <th>num_of_prev_attempts</th>\n",
       "      <th>final_result</th>\n",
       "      <th>date_registration</th>\n",
       "      <th>disability</th>\n",
       "      <th>gender</th>\n",
       "      <th>age_band</th>\n",
       "      <th>region</th>\n",
       "      <th>highest_education</th>\n",
       "      <th>imd_band</th>\n",
       "      <th>studied_credits</th>\n",
       "      <th>b4_sum_clicks</th>\n",
       "      <th>qtr_sum_clicks</th>\n",
       "      <th>half_sum_clicks</th>\n",
       "      <th>threeqtr_sum_clicks</th>\n",
       "      <th>qtr_half_sum_clicks</th>\n",
       "      <th>half_threeqtr_sum_clicks</th>\n",
       "      <th>thrd_sum_clicks</th>\n",
       "      <th>twothrd_sum_clicks</th>\n",
       "      <th>thrd_twothrd_sum_clicks</th>\n",
       "      <th>allclicks</th>\n",
       "      <th>std_half_score</th>\n",
       "    </tr>\n",
       "  </thead>\n",
       "  <tbody>\n",
       "    <tr>\n",
       "      <th>count</th>\n",
       "      <td>28910.000000</td>\n",
       "      <td>28910.000000</td>\n",
       "      <td>28910.000000</td>\n",
       "      <td>28910.000000</td>\n",
       "      <td>28910.000000</td>\n",
       "      <td>28910.000000</td>\n",
       "      <td>28910.000000</td>\n",
       "      <td>28910.000000</td>\n",
       "      <td>28910.000000</td>\n",
       "      <td>28910.000000</td>\n",
       "      <td>28910.000000</td>\n",
       "      <td>28910.000000</td>\n",
       "      <td>28910.000000</td>\n",
       "      <td>28910.000000</td>\n",
       "      <td>2.891000e+04</td>\n",
       "      <td>28910.000000</td>\n",
       "      <td>28910.000000</td>\n",
       "      <td>28910.000000</td>\n",
       "      <td>28910.000000</td>\n",
       "      <td>28910.000000</td>\n",
       "      <td>28910.000000</td>\n",
       "      <td>28910.000000</td>\n",
       "      <td>28910.000000</td>\n",
       "      <td>28910.000000</td>\n",
       "      <td>28910.000000</td>\n",
       "      <td>28910.000000</td>\n",
       "      <td>28910.000000</td>\n",
       "      <td>28910.000000</td>\n",
       "      <td>28910.000000</td>\n",
       "      <td>28910.000000</td>\n",
       "      <td>28910.000000</td>\n",
       "      <td>28910.000000</td>\n",
       "      <td>28910.000000</td>\n",
       "      <td>28910.000000</td>\n",
       "      <td>28910.000000</td>\n",
       "      <td>28910.000000</td>\n",
       "      <td>28910.000000</td>\n",
       "      <td>28910.000000</td>\n",
       "      <td>28910.000000</td>\n",
       "      <td>28910.000000</td>\n",
       "      <td>28910.000000</td>\n",
       "    </tr>\n",
       "    <tr>\n",
       "      <th>mean</th>\n",
       "      <td>16034.003909</td>\n",
       "      <td>0.116361</td>\n",
       "      <td>0.103217</td>\n",
       "      <td>0.098997</td>\n",
       "      <td>0.095572</td>\n",
       "      <td>0.090937</td>\n",
       "      <td>0.080111</td>\n",
       "      <td>0.076202</td>\n",
       "      <td>0.073677</td>\n",
       "      <td>0.065963</td>\n",
       "      <td>0.070391</td>\n",
       "      <td>0.062193</td>\n",
       "      <td>0.035005</td>\n",
       "      <td>0.031373</td>\n",
       "      <td>7.084105e+05</td>\n",
       "      <td>2.846489</td>\n",
       "      <td>0.703840</td>\n",
       "      <td>255.947181</td>\n",
       "      <td>0.386821</td>\n",
       "      <td>0.580837</td>\n",
       "      <td>0.175787</td>\n",
       "      <td>0.454687</td>\n",
       "      <td>-71.594569</td>\n",
       "      <td>0.095918</td>\n",
       "      <td>0.427430</td>\n",
       "      <td>0.290764</td>\n",
       "      <td>4.869872</td>\n",
       "      <td>1.756416</td>\n",
       "      <td>4.237323</td>\n",
       "      <td>83.677274</td>\n",
       "      <td>64.182359</td>\n",
       "      <td>457.443341</td>\n",
       "      <td>701.139744</td>\n",
       "      <td>964.222172</td>\n",
       "      <td>249.594085</td>\n",
       "      <td>263.082428</td>\n",
       "      <td>521.900380</td>\n",
       "      <td>900.696714</td>\n",
       "      <td>179.239364</td>\n",
       "      <td>1234.993843</td>\n",
       "      <td>0.457645</td>\n",
       "    </tr>\n",
       "    <tr>\n",
       "      <th>std</th>\n",
       "      <td>9509.981400</td>\n",
       "      <td>0.320663</td>\n",
       "      <td>0.304247</td>\n",
       "      <td>0.298663</td>\n",
       "      <td>0.294009</td>\n",
       "      <td>0.287525</td>\n",
       "      <td>0.271469</td>\n",
       "      <td>0.265326</td>\n",
       "      <td>0.261249</td>\n",
       "      <td>0.248222</td>\n",
       "      <td>0.255809</td>\n",
       "      <td>0.241510</td>\n",
       "      <td>0.183796</td>\n",
       "      <td>0.174327</td>\n",
       "      <td>5.588336e+05</td>\n",
       "      <td>1.596837</td>\n",
       "      <td>0.456571</td>\n",
       "      <td>13.310705</td>\n",
       "      <td>0.487031</td>\n",
       "      <td>0.493431</td>\n",
       "      <td>0.498177</td>\n",
       "      <td>0.497951</td>\n",
       "      <td>49.616924</td>\n",
       "      <td>0.294484</td>\n",
       "      <td>0.494714</td>\n",
       "      <td>0.468667</td>\n",
       "      <td>3.514445</td>\n",
       "      <td>0.736160</td>\n",
       "      <td>2.818201</td>\n",
       "      <td>40.169579</td>\n",
       "      <td>130.007392</td>\n",
       "      <td>612.933600</td>\n",
       "      <td>970.164622</td>\n",
       "      <td>1366.002456</td>\n",
       "      <td>414.788441</td>\n",
       "      <td>458.287297</td>\n",
       "      <td>708.714717</td>\n",
       "      <td>1266.119737</td>\n",
       "      <td>307.515264</td>\n",
       "      <td>1730.345325</td>\n",
       "      <td>0.342884</td>\n",
       "    </tr>\n",
       "    <tr>\n",
       "      <th>min</th>\n",
       "      <td>0.000000</td>\n",
       "      <td>0.000000</td>\n",
       "      <td>0.000000</td>\n",
       "      <td>0.000000</td>\n",
       "      <td>0.000000</td>\n",
       "      <td>0.000000</td>\n",
       "      <td>0.000000</td>\n",
       "      <td>0.000000</td>\n",
       "      <td>0.000000</td>\n",
       "      <td>0.000000</td>\n",
       "      <td>0.000000</td>\n",
       "      <td>0.000000</td>\n",
       "      <td>0.000000</td>\n",
       "      <td>0.000000</td>\n",
       "      <td>3.733000e+03</td>\n",
       "      <td>0.000000</td>\n",
       "      <td>0.000000</td>\n",
       "      <td>234.000000</td>\n",
       "      <td>0.000000</td>\n",
       "      <td>0.000000</td>\n",
       "      <td>0.000000</td>\n",
       "      <td>0.000000</td>\n",
       "      <td>-322.000000</td>\n",
       "      <td>0.000000</td>\n",
       "      <td>0.000000</td>\n",
       "      <td>0.000000</td>\n",
       "      <td>0.000000</td>\n",
       "      <td>0.000000</td>\n",
       "      <td>0.000000</td>\n",
       "      <td>30.000000</td>\n",
       "      <td>0.000000</td>\n",
       "      <td>0.000000</td>\n",
       "      <td>0.000000</td>\n",
       "      <td>0.000000</td>\n",
       "      <td>0.000000</td>\n",
       "      <td>0.000000</td>\n",
       "      <td>0.000000</td>\n",
       "      <td>0.000000</td>\n",
       "      <td>0.000000</td>\n",
       "      <td>0.000000</td>\n",
       "      <td>0.000000</td>\n",
       "    </tr>\n",
       "    <tr>\n",
       "      <th>25%</th>\n",
       "      <td>7775.250000</td>\n",
       "      <td>0.000000</td>\n",
       "      <td>0.000000</td>\n",
       "      <td>0.000000</td>\n",
       "      <td>0.000000</td>\n",
       "      <td>0.000000</td>\n",
       "      <td>0.000000</td>\n",
       "      <td>0.000000</td>\n",
       "      <td>0.000000</td>\n",
       "      <td>0.000000</td>\n",
       "      <td>0.000000</td>\n",
       "      <td>0.000000</td>\n",
       "      <td>0.000000</td>\n",
       "      <td>0.000000</td>\n",
       "      <td>5.021358e+05</td>\n",
       "      <td>1.000000</td>\n",
       "      <td>0.000000</td>\n",
       "      <td>241.000000</td>\n",
       "      <td>0.000000</td>\n",
       "      <td>0.000000</td>\n",
       "      <td>0.000000</td>\n",
       "      <td>0.000000</td>\n",
       "      <td>-103.000000</td>\n",
       "      <td>0.000000</td>\n",
       "      <td>0.000000</td>\n",
       "      <td>0.000000</td>\n",
       "      <td>2.000000</td>\n",
       "      <td>1.000000</td>\n",
       "      <td>2.000000</td>\n",
       "      <td>60.000000</td>\n",
       "      <td>0.000000</td>\n",
       "      <td>41.000000</td>\n",
       "      <td>63.000000</td>\n",
       "      <td>73.000000</td>\n",
       "      <td>0.000000</td>\n",
       "      <td>0.000000</td>\n",
       "      <td>47.000000</td>\n",
       "      <td>72.000000</td>\n",
       "      <td>0.000000</td>\n",
       "      <td>88.000000</td>\n",
       "      <td>0.051613</td>\n",
       "    </tr>\n",
       "    <tr>\n",
       "      <th>50%</th>\n",
       "      <td>15656.500000</td>\n",
       "      <td>0.000000</td>\n",
       "      <td>0.000000</td>\n",
       "      <td>0.000000</td>\n",
       "      <td>0.000000</td>\n",
       "      <td>0.000000</td>\n",
       "      <td>0.000000</td>\n",
       "      <td>0.000000</td>\n",
       "      <td>0.000000</td>\n",
       "      <td>0.000000</td>\n",
       "      <td>0.000000</td>\n",
       "      <td>0.000000</td>\n",
       "      <td>0.000000</td>\n",
       "      <td>0.000000</td>\n",
       "      <td>5.864735e+05</td>\n",
       "      <td>3.000000</td>\n",
       "      <td>1.000000</td>\n",
       "      <td>262.000000</td>\n",
       "      <td>0.000000</td>\n",
       "      <td>1.000000</td>\n",
       "      <td>0.000000</td>\n",
       "      <td>0.000000</td>\n",
       "      <td>-59.000000</td>\n",
       "      <td>0.000000</td>\n",
       "      <td>0.000000</td>\n",
       "      <td>0.000000</td>\n",
       "      <td>4.000000</td>\n",
       "      <td>2.000000</td>\n",
       "      <td>4.000000</td>\n",
       "      <td>60.000000</td>\n",
       "      <td>15.000000</td>\n",
       "      <td>272.000000</td>\n",
       "      <td>389.000000</td>\n",
       "      <td>491.500000</td>\n",
       "      <td>92.000000</td>\n",
       "      <td>63.000000</td>\n",
       "      <td>304.000000</td>\n",
       "      <td>471.000000</td>\n",
       "      <td>55.000000</td>\n",
       "      <td>611.000000</td>\n",
       "      <td>0.532910</td>\n",
       "    </tr>\n",
       "    <tr>\n",
       "      <th>75%</th>\n",
       "      <td>24427.500000</td>\n",
       "      <td>0.000000</td>\n",
       "      <td>0.000000</td>\n",
       "      <td>0.000000</td>\n",
       "      <td>0.000000</td>\n",
       "      <td>0.000000</td>\n",
       "      <td>0.000000</td>\n",
       "      <td>0.000000</td>\n",
       "      <td>0.000000</td>\n",
       "      <td>0.000000</td>\n",
       "      <td>0.000000</td>\n",
       "      <td>0.000000</td>\n",
       "      <td>0.000000</td>\n",
       "      <td>0.000000</td>\n",
       "      <td>6.444265e+05</td>\n",
       "      <td>5.000000</td>\n",
       "      <td>1.000000</td>\n",
       "      <td>268.000000</td>\n",
       "      <td>1.000000</td>\n",
       "      <td>1.000000</td>\n",
       "      <td>0.000000</td>\n",
       "      <td>1.000000</td>\n",
       "      <td>-30.000000</td>\n",
       "      <td>0.000000</td>\n",
       "      <td>1.000000</td>\n",
       "      <td>1.000000</td>\n",
       "      <td>8.000000</td>\n",
       "      <td>2.000000</td>\n",
       "      <td>7.000000</td>\n",
       "      <td>120.000000</td>\n",
       "      <td>74.000000</td>\n",
       "      <td>617.000000</td>\n",
       "      <td>917.000000</td>\n",
       "      <td>1265.750000</td>\n",
       "      <td>314.000000</td>\n",
       "      <td>342.000000</td>\n",
       "      <td>694.000000</td>\n",
       "      <td>1187.000000</td>\n",
       "      <td>223.750000</td>\n",
       "      <td>1654.000000</td>\n",
       "      <td>0.775000</td>\n",
       "    </tr>\n",
       "    <tr>\n",
       "      <th>max</th>\n",
       "      <td>32587.000000</td>\n",
       "      <td>1.000000</td>\n",
       "      <td>1.000000</td>\n",
       "      <td>1.000000</td>\n",
       "      <td>1.000000</td>\n",
       "      <td>1.000000</td>\n",
       "      <td>1.000000</td>\n",
       "      <td>1.000000</td>\n",
       "      <td>1.000000</td>\n",
       "      <td>1.000000</td>\n",
       "      <td>1.000000</td>\n",
       "      <td>1.000000</td>\n",
       "      <td>1.000000</td>\n",
       "      <td>1.000000</td>\n",
       "      <td>2.698591e+06</td>\n",
       "      <td>5.000000</td>\n",
       "      <td>1.000000</td>\n",
       "      <td>269.000000</td>\n",
       "      <td>1.000000</td>\n",
       "      <td>1.000000</td>\n",
       "      <td>6.000000</td>\n",
       "      <td>1.000000</td>\n",
       "      <td>167.000000</td>\n",
       "      <td>1.000000</td>\n",
       "      <td>1.000000</td>\n",
       "      <td>2.000000</td>\n",
       "      <td>12.000000</td>\n",
       "      <td>4.000000</td>\n",
       "      <td>9.000000</td>\n",
       "      <td>655.000000</td>\n",
       "      <td>3731.000000</td>\n",
       "      <td>10149.000000</td>\n",
       "      <td>13086.000000</td>\n",
       "      <td>18713.000000</td>\n",
       "      <td>6739.000000</td>\n",
       "      <td>6626.000000</td>\n",
       "      <td>11236.000000</td>\n",
       "      <td>17481.000000</td>\n",
       "      <td>5613.000000</td>\n",
       "      <td>24139.000000</td>\n",
       "      <td>1.000000</td>\n",
       "    </tr>\n",
       "  </tbody>\n",
       "</table>\n",
       "</div>"
      ],
      "text/plain": [
       "              index      Scotland  East Anglian Region  London Region  \\\n",
       "count  28910.000000  28910.000000         28910.000000   28910.000000   \n",
       "mean   16034.003909      0.116361             0.103217       0.098997   \n",
       "std     9509.981400      0.320663             0.304247       0.298663   \n",
       "min        0.000000      0.000000             0.000000       0.000000   \n",
       "25%     7775.250000      0.000000             0.000000       0.000000   \n",
       "50%    15656.500000      0.000000             0.000000       0.000000   \n",
       "75%    24427.500000      0.000000             0.000000       0.000000   \n",
       "max    32587.000000      1.000000             1.000000       1.000000   \n",
       "\n",
       "       South Region  North Western Region  West Midlands Region  \\\n",
       "count  28910.000000          28910.000000          28910.000000   \n",
       "mean       0.095572              0.090937              0.080111   \n",
       "std        0.294009              0.287525              0.271469   \n",
       "min        0.000000              0.000000              0.000000   \n",
       "25%        0.000000              0.000000              0.000000   \n",
       "50%        0.000000              0.000000              0.000000   \n",
       "75%        0.000000              0.000000              0.000000   \n",
       "max        1.000000              1.000000              1.000000   \n",
       "\n",
       "       South West Region  East Midlands Region  South East Region  \\\n",
       "count       28910.000000          28910.000000       28910.000000   \n",
       "mean            0.076202              0.073677           0.065963   \n",
       "std             0.265326              0.261249           0.248222   \n",
       "min             0.000000              0.000000           0.000000   \n",
       "25%             0.000000              0.000000           0.000000   \n",
       "50%             0.000000              0.000000           0.000000   \n",
       "75%             0.000000              0.000000           0.000000   \n",
       "max             1.000000              1.000000           1.000000   \n",
       "\n",
       "              Wales  Yorkshire Region  North Region       Ireland  \\\n",
       "count  28910.000000      28910.000000  28910.000000  28910.000000   \n",
       "mean       0.070391          0.062193      0.035005      0.031373   \n",
       "std        0.255809          0.241510      0.183796      0.174327   \n",
       "min        0.000000          0.000000      0.000000      0.000000   \n",
       "25%        0.000000          0.000000      0.000000      0.000000   \n",
       "50%        0.000000          0.000000      0.000000      0.000000   \n",
       "75%        0.000000          0.000000      0.000000      0.000000   \n",
       "max        1.000000          1.000000      1.000000      1.000000   \n",
       "\n",
       "         id_student   code_module  module_domain  module_presentation_length  \\\n",
       "count  2.891000e+04  28910.000000   28910.000000                28910.000000   \n",
       "mean   7.084105e+05      2.846489       0.703840                  255.947181   \n",
       "std    5.588336e+05      1.596837       0.456571                   13.310705   \n",
       "min    3.733000e+03      0.000000       0.000000                  234.000000   \n",
       "25%    5.021358e+05      1.000000       0.000000                  241.000000   \n",
       "50%    5.864735e+05      3.000000       1.000000                  262.000000   \n",
       "75%    6.444265e+05      5.000000       1.000000                  268.000000   \n",
       "max    2.698591e+06      5.000000       1.000000                  269.000000   \n",
       "\n",
       "               term          year  num_of_prev_attempts  final_result  \\\n",
       "count  28910.000000  28910.000000          28910.000000  28910.000000   \n",
       "mean       0.386821      0.580837              0.175787      0.454687   \n",
       "std        0.487031      0.493431              0.498177      0.497951   \n",
       "min        0.000000      0.000000              0.000000      0.000000   \n",
       "25%        0.000000      0.000000              0.000000      0.000000   \n",
       "50%        0.000000      1.000000              0.000000      0.000000   \n",
       "75%        1.000000      1.000000              0.000000      1.000000   \n",
       "max        1.000000      1.000000              6.000000      1.000000   \n",
       "\n",
       "       date_registration    disability        gender      age_band  \\\n",
       "count       28910.000000  28910.000000  28910.000000  28910.000000   \n",
       "mean          -71.594569      0.095918      0.427430      0.290764   \n",
       "std            49.616924      0.294484      0.494714      0.468667   \n",
       "min          -322.000000      0.000000      0.000000      0.000000   \n",
       "25%          -103.000000      0.000000      0.000000      0.000000   \n",
       "50%           -59.000000      0.000000      0.000000      0.000000   \n",
       "75%           -30.000000      0.000000      1.000000      1.000000   \n",
       "max           167.000000      1.000000      1.000000      2.000000   \n",
       "\n",
       "             region  highest_education      imd_band  studied_credits  \\\n",
       "count  28910.000000       28910.000000  28910.000000     28910.000000   \n",
       "mean       4.869872           1.756416      4.237323        83.677274   \n",
       "std        3.514445           0.736160      2.818201        40.169579   \n",
       "min        0.000000           0.000000      0.000000        30.000000   \n",
       "25%        2.000000           1.000000      2.000000        60.000000   \n",
       "50%        4.000000           2.000000      4.000000        60.000000   \n",
       "75%        8.000000           2.000000      7.000000       120.000000   \n",
       "max       12.000000           4.000000      9.000000       655.000000   \n",
       "\n",
       "       b4_sum_clicks  qtr_sum_clicks  half_sum_clicks  threeqtr_sum_clicks  \\\n",
       "count   28910.000000    28910.000000     28910.000000         28910.000000   \n",
       "mean       64.182359      457.443341       701.139744           964.222172   \n",
       "std       130.007392      612.933600       970.164622          1366.002456   \n",
       "min         0.000000        0.000000         0.000000             0.000000   \n",
       "25%         0.000000       41.000000        63.000000            73.000000   \n",
       "50%        15.000000      272.000000       389.000000           491.500000   \n",
       "75%        74.000000      617.000000       917.000000          1265.750000   \n",
       "max      3731.000000    10149.000000     13086.000000         18713.000000   \n",
       "\n",
       "       qtr_half_sum_clicks  half_threeqtr_sum_clicks  thrd_sum_clicks  \\\n",
       "count         28910.000000              28910.000000     28910.000000   \n",
       "mean            249.594085                263.082428       521.900380   \n",
       "std             414.788441                458.287297       708.714717   \n",
       "min               0.000000                  0.000000         0.000000   \n",
       "25%               0.000000                  0.000000        47.000000   \n",
       "50%              92.000000                 63.000000       304.000000   \n",
       "75%             314.000000                342.000000       694.000000   \n",
       "max            6739.000000               6626.000000     11236.000000   \n",
       "\n",
       "       twothrd_sum_clicks  thrd_twothrd_sum_clicks     allclicks  \\\n",
       "count        28910.000000             28910.000000  28910.000000   \n",
       "mean           900.696714               179.239364   1234.993843   \n",
       "std           1266.119737               307.515264   1730.345325   \n",
       "min              0.000000                 0.000000      0.000000   \n",
       "25%             72.000000                 0.000000     88.000000   \n",
       "50%            471.000000                55.000000    611.000000   \n",
       "75%           1187.000000               223.750000   1654.000000   \n",
       "max          17481.000000              5613.000000  24139.000000   \n",
       "\n",
       "       std_half_score  \n",
       "count    28910.000000  \n",
       "mean         0.457645  \n",
       "std          0.342884  \n",
       "min          0.000000  \n",
       "25%          0.051613  \n",
       "50%          0.532910  \n",
       "75%          0.775000  \n",
       "max          1.000000  "
      ]
     },
     "execution_count": 4,
     "metadata": {},
     "output_type": "execute_result"
    }
   ],
   "source": [
    "#investigate data\n",
    "df.describe()"
   ]
  },
  {
   "cell_type": "code",
   "execution_count": 5,
   "metadata": {},
   "outputs": [
    {
     "data": {
      "text/plain": [
       "<matplotlib.axes._subplots.AxesSubplot at 0x11f625f28>"
      ]
     },
     "execution_count": 5,
     "metadata": {},
     "output_type": "execute_result"
    },
    {
     "data": {
      "image/png": "[encoded data removed]",
      "text/plain": [
       "<Figure size 1800x720 with 2 Axes>"
      ]
     },
     "metadata": {
      "needs_background": "light"
     },
     "output_type": "display_data"
    }
   ],
   "source": [
    "#examine missing values in original dataset called analysisDataset\n",
    "mn.matrix(df)"
   ]
  },
  {
   "cell_type": "code",
   "execution_count": 6,
   "metadata": {},
   "outputs": [
    {
     "data": {
      "text/plain": [
       "index                         0\n",
       "Scotland                      0\n",
       "East Anglian Region           0\n",
       "London Region                 0\n",
       "South Region                  0\n",
       "North Western Region          0\n",
       "West Midlands Region          0\n",
       "South West Region             0\n",
       "East Midlands Region          0\n",
       "South East Region             0\n",
       "Wales                         0\n",
       "Yorkshire Region              0\n",
       "North Region                  0\n",
       "Ireland                       0\n",
       "id_student                    0\n",
       "code_module                   0\n",
       "module_domain                 0\n",
       "module_presentation_length    0\n",
       "term                          0\n",
       "year                          0\n",
       "num_of_prev_attempts          0\n",
       "final_result                  0\n",
       "date_registration             0\n",
       "disability                    0\n",
       "gender                        0\n",
       "age_band                      0\n",
       "region                        0\n",
       "highest_education             0\n",
       "imd_band                      0\n",
       "studied_credits               0\n",
       "b4_sum_clicks                 0\n",
       "qtr_sum_clicks                0\n",
       "half_sum_clicks               0\n",
       "threeqtr_sum_clicks           0\n",
       "qtr_half_sum_clicks           0\n",
       "half_threeqtr_sum_clicks      0\n",
       "thrd_sum_clicks               0\n",
       "twothrd_sum_clicks            0\n",
       "thrd_twothrd_sum_clicks       0\n",
       "allclicks                     0\n",
       "std_half_score                0\n",
       "dtype: int64"
      ]
     },
     "execution_count": 6,
     "metadata": {},
     "output_type": "execute_result"
    }
   ],
   "source": [
    "#count of null values in chart\n",
    "df.isnull().sum()"
   ]
  },
  {
   "cell_type": "markdown",
   "metadata": {},
   "source": [
    "# Exploratory Data Analysis\n",
    "\n",
    "   Using Final Set of Features"
   ]
  },
  {
   "cell_type": "code",
   "execution_count": 7,
   "metadata": {},
   "outputs": [
    {
     "data": {
      "text/plain": [
       "index                           int64\n",
       "Scotland                        int64\n",
       "East Anglian Region             int64\n",
       "London Region                   int64\n",
       "South Region                    int64\n",
       "North Western Region            int64\n",
       "West Midlands Region            int64\n",
       "South West Region               int64\n",
       "East Midlands Region            int64\n",
       "South East Region               int64\n",
       "Wales                           int64\n",
       "Yorkshire Region                int64\n",
       "North Region                    int64\n",
       "Ireland                         int64\n",
       "id_student                      int64\n",
       "code_module                     int64\n",
       "module_domain                   int64\n",
       "module_presentation_length      int64\n",
       "term                            int64\n",
       "year                            int64\n",
       "num_of_prev_attempts            int64\n",
       "final_result                    int64\n",
       "date_registration             float64\n",
       "disability                      int64\n",
       "gender                          int64\n",
       "age_band                        int64\n",
       "region                          int64\n",
       "highest_education               int64\n",
       "imd_band                      float64\n",
       "studied_credits                 int64\n",
       "b4_sum_clicks                 float64\n",
       "qtr_sum_clicks                float64\n",
       "half_sum_clicks               float64\n",
       "threeqtr_sum_clicks           float64\n",
       "qtr_half_sum_clicks           float64\n",
       "half_threeqtr_sum_clicks      float64\n",
       "thrd_sum_clicks               float64\n",
       "twothrd_sum_clicks            float64\n",
       "thrd_twothrd_sum_clicks       float64\n",
       "allclicks                     float64\n",
       "std_half_score                float64\n",
       "dtype: object"
      ]
     },
     "execution_count": 7,
     "metadata": {},
     "output_type": "execute_result"
    }
   ],
   "source": [
    "#investigate data types of all the files\n",
    "df.dtypes"
   ]
  },
  {
   "cell_type": "code",
   "execution_count": 8,
   "metadata": {
    "scrolled": true
   },
   "outputs": [
    {
     "data": {
      "image/png": "[encoded data removed]",
      "text/plain": [
       "<Figure size 432x288 with 1 Axes>"
      ]
     },
     "metadata": {
      "needs_background": "light"
     },
     "output_type": "display_data"
    }
   ],
   "source": [
    "#check pass and fail ratio for students in diffent regions\n",
    "df.groupby(['region','final_result']).size().unstack().plot(kind='bar',stacked=True)\n",
    "plt.show()"
   ]
  },
  {
   "cell_type": "code",
   "execution_count": 9,
   "metadata": {},
   "outputs": [
    {
     "data": {
      "text/plain": [
       "25323"
      ]
     },
     "execution_count": 9,
     "metadata": {},
     "output_type": "execute_result"
    }
   ],
   "source": [
    "#number of unique student id's\n",
    "df[\"id_student\"].nunique()"
   ]
  },
  {
   "cell_type": "code",
   "execution_count": 10,
   "metadata": {},
   "outputs": [
    {
     "data": {
      "text/plain": [
       "year  term  module_domain\n",
       "0     0     0                2587\n",
       "            1                5032\n",
       "      1     0                1745\n",
       "            1                2754\n",
       "1     0     0                2635\n",
       "            1                7473\n",
       "      1     0                1595\n",
       "            1                5089\n",
       "Name: id_student, dtype: int64"
      ]
     },
     "execution_count": 10,
     "metadata": {},
     "output_type": "execute_result"
    }
   ],
   "source": [
    "#count the number of semesters\n",
    "df.groupby(['year', 'term', 'module_domain'])['id_student'].count()"
   ]
  },
  {
   "cell_type": "code",
   "execution_count": 11,
   "metadata": {},
   "outputs": [
    {
     "data": {
      "text/plain": [
       "0    17727\n",
       "1    11183\n",
       "Name: term, dtype: int64"
      ]
     },
     "execution_count": 11,
     "metadata": {},
     "output_type": "execute_result"
    }
   ],
   "source": [
    "df['term'].value_counts()"
   ]
  },
  {
   "cell_type": "code",
   "execution_count": 12,
   "metadata": {},
   "outputs": [
    {
     "data": {
      "image/png": "[encoded data removed]",
      "text/plain": [
       "<Figure size 432x288 with 1 Axes>"
      ]
     },
     "metadata": {
      "needs_background": "light"
     },
     "output_type": "display_data"
    }
   ],
   "source": [
    "#check out layout of classes\n",
    "df.groupby(['module_domain','code_module']).size().unstack().plot(kind='bar',stacked=True)\n",
    "\n",
    "plt.savefig('module_domain.png')\n",
    "plt.show()"
   ]
  },
  {
   "cell_type": "code",
   "execution_count": 13,
   "metadata": {},
   "outputs": [
    {
     "data": {
      "text/plain": [
       "<matplotlib.axes._subplots.AxesSubplot at 0x11f852588>"
      ]
     },
     "execution_count": 13,
     "metadata": {},
     "output_type": "execute_result"
    },
    {
     "data": {
      "image/png": "[encoded data removed]",
      "text/plain": [
       "<Figure size 432x288 with 1 Axes>"
      ]
     },
     "metadata": {
      "needs_background": "light"
     },
     "output_type": "display_data"
    }
   ],
   "source": [
    "#check out layout of classes\n",
    "df.groupby(['code_module','final_result']).size().unstack().plot(kind='bar',stacked=True)"
   ]
  },
  {
   "cell_type": "code",
   "execution_count": 14,
   "metadata": {},
   "outputs": [
    {
     "data": {
      "text/plain": [
       "1    7837\n",
       "5    7384\n",
       "3    5977\n",
       "2    4172\n",
       "4    2815\n",
       "0     725\n",
       "Name: code_module, dtype: int64"
      ]
     },
     "execution_count": 14,
     "metadata": {},
     "output_type": "execute_result"
    }
   ],
   "source": [
    "#value counts per code module \n",
    "df['code_module'].value_counts()"
   ]
  },
  {
   "cell_type": "code",
   "execution_count": 15,
   "metadata": {},
   "outputs": [
    {
     "data": {
      "text/plain": [
       "<matplotlib.axes._subplots.AxesSubplot at 0x12020dd68>"
      ]
     },
     "execution_count": 15,
     "metadata": {},
     "output_type": "execute_result"
    },
    {
     "data": {
      "image/png": "[encoded data removed]",
      "text/plain": [
       "<Figure size 432x288 with 1 Axes>"
      ]
     },
     "metadata": {
      "needs_background": "light"
     },
     "output_type": "display_data"
    }
   ],
   "source": [
    "#check out layout of classes\n",
    "df.groupby(['module_domain','final_result']).size().unstack().plot(kind='bar',stacked=True)"
   ]
  },
  {
   "cell_type": "code",
   "execution_count": 16,
   "metadata": {},
   "outputs": [
    {
     "data": {
      "image/png": "[encoded data removed]",
      "text/plain": [
       "<Figure size 432x288 with 1 Axes>"
      ]
     },
     "metadata": {
      "needs_background": "light"
     },
     "output_type": "display_data"
    }
   ],
   "source": [
    "df.groupby(['gender', 'module_domain']).size().unstack().plot(kind='bar',stacked=True)\n",
    "plt.show()"
   ]
  },
  {
   "cell_type": "code",
   "execution_count": 17,
   "metadata": {},
   "outputs": [
    {
     "data": {
      "text/plain": [
       "<matplotlib.axes._subplots.AxesSubplot at 0x1207a1518>"
      ]
     },
     "execution_count": 17,
     "metadata": {},
     "output_type": "execute_result"
    },
    {
     "data": {
      "image/png": "[encoded data removed]",
      "text/plain": [
       "<Figure size 432x288 with 1 Axes>"
      ]
     },
     "metadata": {
      "needs_background": "light"
     },
     "output_type": "display_data"
    }
   ],
   "source": [
    "#check out age band per gender\n",
    "df.groupby(['age_band','gender']).size().unstack().plot(kind='bar',stacked=True)"
   ]
  },
  {
   "cell_type": "code",
   "execution_count": 18,
   "metadata": {},
   "outputs": [],
   "source": [
    "#module = ({\"module_domain\": [\"Social Science\",\"STEM\"],\n",
    "                  #\"class\": [\"AAA\", \"BBB\",\n",
    "                           # \"CCC\", \"DDD\",\n",
    "                           # \"EEE\", \"FFF\"]})\n",
    "#check out layout of classes\n",
    "#module.groupby(['module_domain','code_module']).size().unstack().plot(kind='bar',stacked=True)\n",
    "#plt.show()\n",
    "#fig.savefig('module_domain.png')"
   ]
  },
  {
   "cell_type": "code",
   "execution_count": 19,
   "metadata": {},
   "outputs": [
    {
     "data": {
      "image/png": "[encoded data removed]",
      "text/plain": [
       "<Figure size 432x288 with 1 Axes>"
      ]
     },
     "metadata": {
      "needs_background": "light"
     },
     "output_type": "display_data"
    }
   ],
   "source": [
    "#Module Domains Dropped GGG - 6\n",
    "df.groupby(['code_module','module_domain']).size().unstack().plot(kind='bar',stacked=True)\n",
    "plt.show()"
   ]
  },
  {
   "cell_type": "code",
   "execution_count": 20,
   "metadata": {},
   "outputs": [
    {
     "name": "stderr",
     "output_type": "stream",
     "text": [
      "//anaconda3/lib/python3.7/site-packages/seaborn/axisgrid.py:715: UserWarning: Using the boxplot function without specifying `order` is likely to produce an incorrect plot.\n",
      "  warnings.warn(warning)\n"
     ]
    },
    {
     "data": {
      "image/png": "[encoded data removed]",
      "text/plain": [
       "<Figure size 432x288 with 2 Axes>"
      ]
     },
     "metadata": {
      "needs_background": "light"
     },
     "output_type": "display_data"
    }
   ],
   "source": [
    "#examining half sum click distribution by gender for final results\n",
    "g = sns.FacetGrid(df, col='gender', height=4, aspect=.75)\n",
    "g = g.map(sns.boxplot, 'final_result', 'half_sum_clicks')"
   ]
  },
  {
   "cell_type": "code",
   "execution_count": 21,
   "metadata": {},
   "outputs": [
    {
     "name": "stderr",
     "output_type": "stream",
     "text": [
      "//anaconda3/lib/python3.7/site-packages/seaborn/axisgrid.py:715: UserWarning: Using the boxplot function without specifying `order` is likely to produce an incorrect plot.\n",
      "  warnings.warn(warning)\n"
     ]
    },
    {
     "data": {
      "image/png": "[encoded data removed]",
      "text/plain": [
       "<Figure size 1080x288 with 5 Axes>"
      ]
     },
     "metadata": {
      "needs_background": "light"
     },
     "output_type": "display_data"
    }
   ],
   "source": [
    "#examining half sum click distribution grouped into highest education by gender\n",
    "g = sns.FacetGrid(df, col='highest_education', height=4, aspect=.75)\n",
    "g = g.map(sns.boxplot, 'final_result', 'half_sum_clicks')"
   ]
  },
  {
   "cell_type": "code",
   "execution_count": 22,
   "metadata": {},
   "outputs": [
    {
     "name": "stderr",
     "output_type": "stream",
     "text": [
      "//anaconda3/lib/python3.7/site-packages/seaborn/axisgrid.py:715: UserWarning: Using the boxplot function without specifying `order` is likely to produce an incorrect plot.\n",
      "  warnings.warn(warning)\n"
     ]
    },
    {
     "data": {
      "image/png": "[encoded data removed]",
      "text/plain": [
       "<Figure size 432x288 with 2 Axes>"
      ]
     },
     "metadata": {
      "needs_background": "light"
     },
     "output_type": "display_data"
    }
   ],
   "source": [
    "#examining Social Science - 0 vs Stem - 1, half sum click distribution by respective final results\n",
    "g = sns.FacetGrid(df, col='module_domain', height=4, aspect=.75)\n",
    "g = g.map(sns.boxplot, 'final_result', 'half_sum_clicks')"
   ]
  },
  {
   "cell_type": "code",
   "execution_count": 23,
   "metadata": {},
   "outputs": [
    {
     "name": "stderr",
     "output_type": "stream",
     "text": [
      "//anaconda3/lib/python3.7/site-packages/seaborn/axisgrid.py:715: UserWarning: Using the boxplot function without specifying `order` is likely to produce an incorrect plot.\n",
      "  warnings.warn(warning)\n"
     ]
    },
    {
     "data": {
      "image/png": "[encoded data removed]",
      "text/plain": [
       "<Figure size 1123.2x288 with 13 Axes>"
      ]
     },
     "metadata": {
      "needs_background": "light"
     },
     "output_type": "display_data"
    }
   ],
   "source": [
    "#half sum click distribution per region by final result\n",
    "g = sns.FacetGrid(df, col='region', height=4, aspect=.3)\n",
    "g = g.map(sns.boxplot, 'final_result', 'half_sum_clicks')"
   ]
  },
  {
   "cell_type": "code",
   "execution_count": 24,
   "metadata": {},
   "outputs": [
    {
     "data": {
      "image/png": "[encoded data removed]",
      "text/plain": [
       "<Figure size 432x288 with 1 Axes>"
      ]
     },
     "metadata": {
      "needs_background": "light"
     },
     "output_type": "display_data"
    }
   ],
   "source": [
    "#check out education levels by each region\n",
    "#df['region', 'highest_education'].counts()\n",
    "df.groupby(['region','highest_education']).size().unstack().plot(kind='bar',stacked=True)\n",
    "plt.show() "
   ]
  },
  {
   "cell_type": "code",
   "execution_count": 25,
   "metadata": {},
   "outputs": [
    {
     "data": {
      "text/plain": [
       "region  gender\n",
       "0       0         2018\n",
       "        1         1346\n",
       "1       0         1649\n",
       "        1         1335\n",
       "2       0         1625\n",
       "        1         1237\n",
       "3       0         1673\n",
       "        1         1090\n",
       "4       0         1613\n",
       "        1         1016\n",
       "5       0         1320\n",
       "        1          996\n",
       "6       0         1245\n",
       "        1          958\n",
       "7       0         1185\n",
       "        1          945\n",
       "8       0         1068\n",
       "        1          839\n",
       "9       0         1034\n",
       "        1         1001\n",
       "10      0         1021\n",
       "        1          777\n",
       "11      0          647\n",
       "        1          365\n",
       "12      0          455\n",
       "        1          452\n",
       "Name: gender, dtype: int64"
      ]
     },
     "execution_count": 25,
     "metadata": {},
     "output_type": "execute_result"
    }
   ],
   "source": [
    "#check out counts for gender by each region\n",
    "df.groupby(['region','gender'])['gender'].count()"
   ]
  },
  {
   "cell_type": "code",
   "execution_count": 26,
   "metadata": {
    "scrolled": true
   },
   "outputs": [
    {
     "data": {
      "image/png": "[encoded data removed]",
      "text/plain": [
       "<Figure size 432x288 with 1 Axes>"
      ]
     },
     "metadata": {
      "needs_background": "light"
     },
     "output_type": "display_data"
    }
   ],
   "source": [
    "#check out gender by each region\n",
    "#df['region', 'highest_education'].counts()\n",
    "df.groupby(['region','gender']).size().unstack().plot(kind='bar',stacked=True)\n",
    "plt.show()"
   ]
  },
  {
   "cell_type": "code",
   "execution_count": 27,
   "metadata": {},
   "outputs": [
    {
     "data": {
      "image/png": "[encoded data removed]",
      "text/plain": [
       "<Figure size 432x288 with 1 Axes>"
      ]
     },
     "metadata": {
      "needs_background": "light"
     },
     "output_type": "display_data"
    }
   ],
   "source": [
    "#investigate pass rates based on gender\n",
    "df.groupby(['gender', 'final_result']).size().unstack().plot(kind='bar',stacked=True)\n",
    "plt.show()"
   ]
  },
  {
   "cell_type": "code",
   "execution_count": 28,
   "metadata": {},
   "outputs": [
    {
     "data": {
      "image/png": "[encoded data removed]",
      "text/plain": [
       "<Figure size 432x288 with 1 Axes>"
      ]
     },
     "metadata": {
      "needs_background": "light"
     },
     "output_type": "display_data"
    }
   ],
   "source": [
    "#grouping education by gender\n",
    "df.groupby(['highest_education', 'gender']).size().unstack().plot(kind='bar')\n",
    "plt.show()\n"
   ]
  },
  {
   "cell_type": "code",
   "execution_count": 29,
   "metadata": {},
   "outputs": [
    {
     "data": {
      "image/png": "[encoded data removed]",
      "text/plain": [
       "<Figure size 432x288 with 1 Axes>"
      ]
     },
     "metadata": {
      "needs_background": "light"
     },
     "output_type": "display_data"
    }
   ],
   "source": [
    "#grouping module domain by gender\n",
    "df.groupby(['module_domain', 'gender']).size().unstack().plot(kind='bar')\n",
    "plt.show()"
   ]
  },
  {
   "cell_type": "code",
   "execution_count": 30,
   "metadata": {},
   "outputs": [
    {
     "data": {
      "text/plain": [
       "module_domain  gender\n",
       "0              0          1326\n",
       "               1          7236\n",
       "1              0         15227\n",
       "               1          5121\n",
       "Name: gender, dtype: int64"
      ]
     },
     "execution_count": 30,
     "metadata": {},
     "output_type": "execute_result"
    }
   ],
   "source": [
    "#distribution of gender based on course genre\n",
    "df.groupby(['module_domain','gender'])['gender'].count()"
   ]
  },
  {
   "cell_type": "code",
   "execution_count": 31,
   "metadata": {},
   "outputs": [
    {
     "data": {
      "image/png": "[encoded data removed]",
      "text/plain": [
       "<Figure size 432x288 with 1 Axes>"
      ]
     },
     "metadata": {
      "needs_background": "light"
     },
     "output_type": "display_data"
    }
   ],
   "source": [
    "#grouping education by gender\n",
    "df.groupby(['year','term', 'gender']).size().unstack().plot(kind='bar')\n",
    "plt.show()"
   ]
  },
  {
   "cell_type": "code",
   "execution_count": 32,
   "metadata": {},
   "outputs": [
    {
     "data": {
      "text/plain": [
       "year  term  gender\n",
       "0     0     0         4278\n",
       "            1         3341\n",
       "      1     0         2167\n",
       "            1         2332\n",
       "1     0     0         6047\n",
       "            1         4061\n",
       "      1     0         4061\n",
       "            1         2623\n",
       "Name: gender, dtype: int64"
      ]
     },
     "execution_count": 32,
     "metadata": {},
     "output_type": "execute_result"
    }
   ],
   "source": [
    "#number count of the graph above\n",
    "df.groupby(['year','term','gender'])['gender'].count()"
   ]
  },
  {
   "cell_type": "code",
   "execution_count": 33,
   "metadata": {},
   "outputs": [
    {
     "data": {
      "image/png": "[encoded data removed]",
      "text/plain": [
       "<Figure size 432x288 with 1 Axes>"
      ]
     },
     "metadata": {
      "needs_background": "light"
     },
     "output_type": "display_data"
    }
   ],
   "source": [
    "#investigate pass rates based on poverty indicator index\n",
    "df.groupby(['imd_band', 'final_result']).size().unstack().plot(kind='bar',stacked=True)\n",
    "plt.show()"
   ]
  },
  {
   "cell_type": "code",
   "execution_count": 34,
   "metadata": {},
   "outputs": [
    {
     "data": {
      "text/plain": [
       "Index(['index', 'Scotland', 'East Anglian Region', 'London Region',\n",
       "       'South Region', 'North Western Region', 'West Midlands Region',\n",
       "       'South West Region', 'East Midlands Region', 'South East Region',\n",
       "       'Wales', 'Yorkshire Region', 'North Region', 'Ireland', 'id_student',\n",
       "       'code_module', 'module_domain', 'module_presentation_length', 'term',\n",
       "       'year', 'num_of_prev_attempts', 'final_result', 'date_registration',\n",
       "       'disability', 'gender', 'age_band', 'region', 'highest_education',\n",
       "       'imd_band', 'studied_credits', 'b4_sum_clicks', 'qtr_sum_clicks',\n",
       "       'half_sum_clicks', 'threeqtr_sum_clicks', 'qtr_half_sum_clicks',\n",
       "       'half_threeqtr_sum_clicks', 'thrd_sum_clicks', 'twothrd_sum_clicks',\n",
       "       'thrd_twothrd_sum_clicks', 'allclicks', 'std_half_score'],\n",
       "      dtype='object')"
      ]
     },
     "execution_count": 34,
     "metadata": {},
     "output_type": "execute_result"
    }
   ],
   "source": [
    "#Pulling all Column Names/Feature Labels\n",
    "df.columns"
   ]
  },
  {
   "cell_type": "code",
   "execution_count": 35,
   "metadata": {},
   "outputs": [
    {
     "data": {
      "text/plain": [
       "['index',\n",
       " 'Scotland',\n",
       " 'East Anglian Region',\n",
       " 'London Region',\n",
       " 'South Region',\n",
       " 'North Western Region',\n",
       " 'West Midlands Region',\n",
       " 'South West Region',\n",
       " 'East Midlands Region',\n",
       " 'South East Region',\n",
       " 'Wales',\n",
       " 'Yorkshire Region',\n",
       " 'North Region',\n",
       " 'Ireland',\n",
       " 'id_student',\n",
       " 'code_module',\n",
       " 'module_domain',\n",
       " 'module_presentation_length',\n",
       " 'term',\n",
       " 'year',\n",
       " 'num_of_prev_attempts',\n",
       " 'final_result',\n",
       " 'date_registration',\n",
       " 'disability',\n",
       " 'gender',\n",
       " 'age_band',\n",
       " 'region',\n",
       " 'highest_education',\n",
       " 'imd_band',\n",
       " 'studied_credits',\n",
       " 'b4_sum_clicks',\n",
       " 'qtr_sum_clicks',\n",
       " 'half_sum_clicks',\n",
       " 'threeqtr_sum_clicks',\n",
       " 'qtr_half_sum_clicks',\n",
       " 'half_threeqtr_sum_clicks',\n",
       " 'thrd_sum_clicks',\n",
       " 'twothrd_sum_clicks',\n",
       " 'thrd_twothrd_sum_clicks',\n",
       " 'allclicks',\n",
       " 'std_half_score']"
      ]
     },
     "execution_count": 35,
     "metadata": {},
     "output_type": "execute_result"
    }
   ],
   "source": [
    "list(df)"
   ]
  },
  {
   "cell_type": "code",
   "execution_count": 36,
   "metadata": {},
   "outputs": [],
   "source": [
    "#creating a function to pull min and max values of allclicks column and view associated features unique to a student\n",
    "def min_max_values(col):\n",
    "    ''' the function takes the colum name as the argument\n",
    "        and returns the top & bottom observation in that dataframe\n",
    "    '''\n",
    "    top = df[col].idxmax()\n",
    "    top_obs = pd.DataFrame(df.loc[top])\n",
    "    \n",
    "    bottom = df[col].idxmin()\n",
    "    bot_obs = pd.DataFrame(df.loc[bottom])\n",
    "    \n",
    "    min_max_obs = pd.concat([top_obs, bot_obs], axis=1)\n",
    "    \n",
    "    return min_max_obs"
   ]
  },
  {
   "cell_type": "code",
   "execution_count": 37,
   "metadata": {},
   "outputs": [
    {
     "data": {
      "text/html": [
       "<div>\n",
       "<style scoped>\n",
       "    .dataframe tbody tr th:only-of-type {\n",
       "        vertical-align: middle;\n",
       "    }\n",
       "\n",
       "    .dataframe tbody tr th {\n",
       "        vertical-align: top;\n",
       "    }\n",
       "\n",
       "    .dataframe thead th {\n",
       "        text-align: right;\n",
       "    }\n",
       "</style>\n",
       "<table border=\"1\" class=\"dataframe\">\n",
       "  <thead>\n",
       "    <tr style=\"text-align: right;\">\n",
       "      <th></th>\n",
       "      <th>14126</th>\n",
       "      <th>0</th>\n",
       "    </tr>\n",
       "  </thead>\n",
       "  <tbody>\n",
       "    <tr>\n",
       "      <th>index</th>\n",
       "      <td>15260.000</td>\n",
       "      <td>0.0</td>\n",
       "    </tr>\n",
       "    <tr>\n",
       "      <th>Scotland</th>\n",
       "      <td>1.000</td>\n",
       "      <td>0.0</td>\n",
       "    </tr>\n",
       "    <tr>\n",
       "      <th>East Anglian Region</th>\n",
       "      <td>0.000</td>\n",
       "      <td>0.0</td>\n",
       "    </tr>\n",
       "    <tr>\n",
       "      <th>London Region</th>\n",
       "      <td>0.000</td>\n",
       "      <td>0.0</td>\n",
       "    </tr>\n",
       "    <tr>\n",
       "      <th>South Region</th>\n",
       "      <td>0.000</td>\n",
       "      <td>1.0</td>\n",
       "    </tr>\n",
       "    <tr>\n",
       "      <th>North Western Region</th>\n",
       "      <td>0.000</td>\n",
       "      <td>0.0</td>\n",
       "    </tr>\n",
       "    <tr>\n",
       "      <th>West Midlands Region</th>\n",
       "      <td>0.000</td>\n",
       "      <td>0.0</td>\n",
       "    </tr>\n",
       "    <tr>\n",
       "      <th>South West Region</th>\n",
       "      <td>0.000</td>\n",
       "      <td>0.0</td>\n",
       "    </tr>\n",
       "    <tr>\n",
       "      <th>East Midlands Region</th>\n",
       "      <td>0.000</td>\n",
       "      <td>0.0</td>\n",
       "    </tr>\n",
       "    <tr>\n",
       "      <th>South East Region</th>\n",
       "      <td>0.000</td>\n",
       "      <td>0.0</td>\n",
       "    </tr>\n",
       "    <tr>\n",
       "      <th>Wales</th>\n",
       "      <td>0.000</td>\n",
       "      <td>0.0</td>\n",
       "    </tr>\n",
       "    <tr>\n",
       "      <th>Yorkshire Region</th>\n",
       "      <td>0.000</td>\n",
       "      <td>0.0</td>\n",
       "    </tr>\n",
       "    <tr>\n",
       "      <th>North Region</th>\n",
       "      <td>0.000</td>\n",
       "      <td>0.0</td>\n",
       "    </tr>\n",
       "    <tr>\n",
       "      <th>Ireland</th>\n",
       "      <td>0.000</td>\n",
       "      <td>0.0</td>\n",
       "    </tr>\n",
       "    <tr>\n",
       "      <th>id_student</th>\n",
       "      <td>583487.000</td>\n",
       "      <td>3733.0</td>\n",
       "    </tr>\n",
       "    <tr>\n",
       "      <th>code_module</th>\n",
       "      <td>5.000</td>\n",
       "      <td>3.0</td>\n",
       "    </tr>\n",
       "    <tr>\n",
       "      <th>module_domain</th>\n",
       "      <td>1.000</td>\n",
       "      <td>1.0</td>\n",
       "    </tr>\n",
       "    <tr>\n",
       "      <th>module_presentation_length</th>\n",
       "      <td>269.000</td>\n",
       "      <td>261.0</td>\n",
       "    </tr>\n",
       "    <tr>\n",
       "      <th>term</th>\n",
       "      <td>0.000</td>\n",
       "      <td>0.0</td>\n",
       "    </tr>\n",
       "    <tr>\n",
       "      <th>year</th>\n",
       "      <td>1.000</td>\n",
       "      <td>0.0</td>\n",
       "    </tr>\n",
       "    <tr>\n",
       "      <th>num_of_prev_attempts</th>\n",
       "      <td>0.000</td>\n",
       "      <td>0.0</td>\n",
       "    </tr>\n",
       "    <tr>\n",
       "      <th>final_result</th>\n",
       "      <td>1.000</td>\n",
       "      <td>0.0</td>\n",
       "    </tr>\n",
       "    <tr>\n",
       "      <th>date_registration</th>\n",
       "      <td>-92.000</td>\n",
       "      <td>-68.0</td>\n",
       "    </tr>\n",
       "    <tr>\n",
       "      <th>disability</th>\n",
       "      <td>0.000</td>\n",
       "      <td>0.0</td>\n",
       "    </tr>\n",
       "    <tr>\n",
       "      <th>gender</th>\n",
       "      <td>0.000</td>\n",
       "      <td>0.0</td>\n",
       "    </tr>\n",
       "    <tr>\n",
       "      <th>age_band</th>\n",
       "      <td>1.000</td>\n",
       "      <td>2.0</td>\n",
       "    </tr>\n",
       "    <tr>\n",
       "      <th>region</th>\n",
       "      <td>0.000</td>\n",
       "      <td>3.0</td>\n",
       "    </tr>\n",
       "    <tr>\n",
       "      <th>highest_education</th>\n",
       "      <td>1.000</td>\n",
       "      <td>3.0</td>\n",
       "    </tr>\n",
       "    <tr>\n",
       "      <th>imd_band</th>\n",
       "      <td>9.000</td>\n",
       "      <td>9.0</td>\n",
       "    </tr>\n",
       "    <tr>\n",
       "      <th>studied_credits</th>\n",
       "      <td>60.000</td>\n",
       "      <td>60.0</td>\n",
       "    </tr>\n",
       "    <tr>\n",
       "      <th>b4_sum_clicks</th>\n",
       "      <td>1486.000</td>\n",
       "      <td>0.0</td>\n",
       "    </tr>\n",
       "    <tr>\n",
       "      <th>qtr_sum_clicks</th>\n",
       "      <td>10149.000</td>\n",
       "      <td>0.0</td>\n",
       "    </tr>\n",
       "    <tr>\n",
       "      <th>half_sum_clicks</th>\n",
       "      <td>13086.000</td>\n",
       "      <td>0.0</td>\n",
       "    </tr>\n",
       "    <tr>\n",
       "      <th>threeqtr_sum_clicks</th>\n",
       "      <td>16670.000</td>\n",
       "      <td>0.0</td>\n",
       "    </tr>\n",
       "    <tr>\n",
       "      <th>qtr_half_sum_clicks</th>\n",
       "      <td>2976.000</td>\n",
       "      <td>0.0</td>\n",
       "    </tr>\n",
       "    <tr>\n",
       "      <th>half_threeqtr_sum_clicks</th>\n",
       "      <td>3584.000</td>\n",
       "      <td>0.0</td>\n",
       "    </tr>\n",
       "    <tr>\n",
       "      <th>thrd_sum_clicks</th>\n",
       "      <td>11236.000</td>\n",
       "      <td>0.0</td>\n",
       "    </tr>\n",
       "    <tr>\n",
       "      <th>twothrd_sum_clicks</th>\n",
       "      <td>16176.000</td>\n",
       "      <td>0.0</td>\n",
       "    </tr>\n",
       "    <tr>\n",
       "      <th>thrd_twothrd_sum_clicks</th>\n",
       "      <td>1850.000</td>\n",
       "      <td>0.0</td>\n",
       "    </tr>\n",
       "    <tr>\n",
       "      <th>allclicks</th>\n",
       "      <td>19461.000</td>\n",
       "      <td>0.0</td>\n",
       "    </tr>\n",
       "    <tr>\n",
       "      <th>std_half_score</th>\n",
       "      <td>0.885</td>\n",
       "      <td>0.0</td>\n",
       "    </tr>\n",
       "  </tbody>\n",
       "</table>\n",
       "</div>"
      ],
      "text/plain": [
       "                                 14126   0    \n",
       "index                        15260.000     0.0\n",
       "Scotland                         1.000     0.0\n",
       "East Anglian Region              0.000     0.0\n",
       "London Region                    0.000     0.0\n",
       "South Region                     0.000     1.0\n",
       "North Western Region             0.000     0.0\n",
       "West Midlands Region             0.000     0.0\n",
       "South West Region                0.000     0.0\n",
       "East Midlands Region             0.000     0.0\n",
       "South East Region                0.000     0.0\n",
       "Wales                            0.000     0.0\n",
       "Yorkshire Region                 0.000     0.0\n",
       "North Region                     0.000     0.0\n",
       "Ireland                          0.000     0.0\n",
       "id_student                  583487.000  3733.0\n",
       "code_module                      5.000     3.0\n",
       "module_domain                    1.000     1.0\n",
       "module_presentation_length     269.000   261.0\n",
       "term                             0.000     0.0\n",
       "year                             1.000     0.0\n",
       "num_of_prev_attempts             0.000     0.0\n",
       "final_result                     1.000     0.0\n",
       "date_registration              -92.000   -68.0\n",
       "disability                       0.000     0.0\n",
       "gender                           0.000     0.0\n",
       "age_band                         1.000     2.0\n",
       "region                           0.000     3.0\n",
       "highest_education                1.000     3.0\n",
       "imd_band                         9.000     9.0\n",
       "studied_credits                 60.000    60.0\n",
       "b4_sum_clicks                 1486.000     0.0\n",
       "qtr_sum_clicks               10149.000     0.0\n",
       "half_sum_clicks              13086.000     0.0\n",
       "threeqtr_sum_clicks          16670.000     0.0\n",
       "qtr_half_sum_clicks           2976.000     0.0\n",
       "half_threeqtr_sum_clicks      3584.000     0.0\n",
       "thrd_sum_clicks              11236.000     0.0\n",
       "twothrd_sum_clicks           16176.000     0.0\n",
       "thrd_twothrd_sum_clicks       1850.000     0.0\n",
       "allclicks                    19461.000     0.0\n",
       "std_half_score                   0.885     0.0"
      ]
     },
     "execution_count": 37,
     "metadata": {},
     "output_type": "execute_result"
    }
   ],
   "source": [
    "#shows the student profile with the max values half sum clicks and associated values for other features  \n",
    "min_max_values('half_sum_clicks')"
   ]
  },
  {
   "cell_type": "code",
   "execution_count": 38,
   "metadata": {},
   "outputs": [
    {
     "data": {
      "image/png": "[encoded data removed]",
      "text/plain": [
       "<Figure size 504x720 with 1 Axes>"
      ]
     },
     "metadata": {
      "needs_background": "light"
     },
     "output_type": "display_data"
    }
   ],
   "source": [
    "#create bins for score distribution\n",
    "\n",
    "fig = plt.figure(figsize=(7,10))\n",
    "ax = fig.add_subplot(211)\n",
    "ax.hist(df['std_half_score'], bins=20, range=(df['std_half_score'].min(),df['std_half_score'].max()))\n",
    "plt.title('Score Distribution with 20 Bins')\n",
    "plt.xlabel('Score')\n",
    "plt.ylabel('Count of Score')\n",
    "plt.show()"
   ]
  },
  {
   "cell_type": "markdown",
   "metadata": {},
   "source": [
    "# Scatter Matrix for All the Features in Our Finalized Dataset"
   ]
  },
  {
   "cell_type": "code",
   "execution_count": null,
   "metadata": {},
   "outputs": [],
   "source": [
    "X = df[df.columns.values.tolist()].sample(frac=0.20, replace=False, random_state=1)\n",
    "#20% of the data for the scatter matrix\n",
    "scatter_matrix(df, alpha=0.2, figsize=(18,18), diagonal='kde')\n",
    "plt.show()"
   ]
  },
  {
   "cell_type": "code",
   "execution_count": null,
   "metadata": {},
   "outputs": [],
   "source": [
    "sns.set_palette(\"colorblind\")\n",
    "\n",
    "g = sns.pairplot(df, hue=\"final_result\")\n",
    "plt.show()"
   ]
  },
  {
   "cell_type": "code",
   "execution_count": null,
   "metadata": {},
   "outputs": [],
   "source": [
    "plt.style.use('ggplot')\n",
    "df.boxplot(\"final_result\",\"region\", figsize=(20,5))"
   ]
  },
  {
   "cell_type": "code",
   "execution_count": null,
   "metadata": {},
   "outputs": [],
   "source": [
    "list(df)"
   ]
  },
  {
   "cell_type": "code",
   "execution_count": null,
   "metadata": {},
   "outputs": [],
   "source": [
    "features_list = df[['id_student',\n",
    "     'code_module',\n",
    "     'module_domain',\n",
    "     'module_presentation_length',\n",
    "     'term',\n",
    "     'year',\n",
    "     'num_of_prev_attempts',\n",
    "     'final_result',\n",
    "     'date_registration',\n",
    "     'disability',\n",
    "     'gender',\n",
    "     'age_band',\n",
    "     'region',\n",
    "     'highest_education',\n",
    "     'imd_band',\n",
    "     'studied_credits',\n",
    "     'b4_sum_clicks',\n",
    "     'qtr_sum_clicks',\n",
    "     'half_sum_clicks',\n",
    "     'threeqtr_sum_clicks',\n",
    "     'qtr_half_sum_clicks',\n",
    "     'half_threeqtr_sum_clicks',\n",
    "     'thrd_sum_clicks',\n",
    "     'twothrd_sum_clicks',\n",
    "     'thrd_twothrd_sum_clicks',\n",
    "     'allclicks',\n",
    "     'std_half_score']]"
   ]
  },
  {
   "cell_type": "code",
   "execution_count": null,
   "metadata": {},
   "outputs": [],
   "source": [
    "features_list.hist(figsize=(25,15)) # Histogram for all features\n",
    "plt.savefig('feature_histogram.png')"
   ]
  },
  {
   "cell_type": "code",
   "execution_count": null,
   "metadata": {},
   "outputs": [],
   "source": [
    "df.head()"
   ]
  },
  {
   "cell_type": "code",
   "execution_count": null,
   "metadata": {},
   "outputs": [],
   "source": [
    "list(df)"
   ]
  },
  {
   "cell_type": "code",
   "execution_count": null,
   "metadata": {},
   "outputs": [],
   "source": [
    "df_test.head()"
   ]
  },
  {
   "cell_type": "code",
   "execution_count": null,
   "metadata": {},
   "outputs": [],
   "source": [
    "scatter_matrix(df_test, alpha=0.2, figsize=(18,18), diagonal='kde')\n",
    "plt.show()"
   ]
  },
  {
   "cell_type": "code",
   "execution_count": null,
   "metadata": {},
   "outputs": [],
   "source": [
    "ax = df.boxplot(\"studied_credits\",\"region\", figsize=(20,5))"
   ]
  },
  {
   "cell_type": "code",
   "execution_count": null,
   "metadata": {},
   "outputs": [],
   "source": [
    "disconnectDB()"
   ]
  }
 ],
 "metadata": {
  "celltoolbar": "Raw Cell Format",
  "kernelspec": {
   "display_name": "Python 3",
   "language": "python",
   "name": "python3"
  },
  "language_info": {
   "codemirror_mode": {
    "name": "ipython",
    "version": 3
   },
   "file_extension": ".py",
   "mimetype": "text/x-python",
   "name": "python",
   "nbconvert_exporter": "python",
   "pygments_lexer": "ipython3",
   "version": "3.7.3"
  }
 },
 "nbformat": 4,
 "nbformat_minor": 4
}
