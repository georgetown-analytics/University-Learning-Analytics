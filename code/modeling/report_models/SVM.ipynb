{
 "cells": [
  {
   "cell_type": "code",
   "execution_count": 1,
   "metadata": {},
   "outputs": [],
   "source": [
    "import psycopg2\n",
    "import pandas as pd\n",
    "import pandas.io.sql as pd_sql\n",
    "import numpy as np\n",
    "import matplotlib.pyplot as plt\n",
    "#from sqlalchemy import create_engine"
   ]
  },
  {
   "cell_type": "code",
   "execution_count": 2,
   "metadata": {},
   "outputs": [],
   "source": [
    "def connectDB(DB):\n",
    "    # connect to the PostgreSQL server\n",
    "    return psycopg2.connect(\n",
    "        database=DB,\n",
    "        user=\"postgres\",\n",
    "        password=\"Georgetown16\",\n",
    "        host=\"database-1.c5vispb5ezxg.us-east-1.rds.amazonaws.com\",\n",
    "        port='5432')\n",
    "\n",
    "def disconnectDB():\n",
    "    cur.close()\n",
    "    conn.close()"
   ]
  },
  {
   "cell_type": "code",
   "execution_count": 3,
   "metadata": {},
   "outputs": [
    {
     "data": {
      "text/html": [
       "<div>\n",
       "<style scoped>\n",
       "    .dataframe tbody tr th:only-of-type {\n",
       "        vertical-align: middle;\n",
       "    }\n",
       "\n",
       "    .dataframe tbody tr th {\n",
       "        vertical-align: top;\n",
       "    }\n",
       "\n",
       "    .dataframe thead th {\n",
       "        text-align: right;\n",
       "    }\n",
       "</style>\n",
       "<table border=\"1\" class=\"dataframe\">\n",
       "  <thead>\n",
       "    <tr style=\"text-align: right;\">\n",
       "      <th></th>\n",
       "      <th>index</th>\n",
       "      <th>Scotland</th>\n",
       "      <th>East Anglian Region</th>\n",
       "      <th>London Region</th>\n",
       "      <th>South Region</th>\n",
       "      <th>North Western Region</th>\n",
       "      <th>West Midlands Region</th>\n",
       "      <th>South West Region</th>\n",
       "      <th>East Midlands Region</th>\n",
       "      <th>South East Region</th>\n",
       "      <th>Wales</th>\n",
       "      <th>Yorkshire Region</th>\n",
       "      <th>North Region</th>\n",
       "      <th>Ireland</th>\n",
       "      <th>id_student</th>\n",
       "      <th>code_module</th>\n",
       "      <th>module_domain</th>\n",
       "      <th>module_presentation_length</th>\n",
       "      <th>term</th>\n",
       "      <th>year</th>\n",
       "      <th>num_of_prev_attempts</th>\n",
       "      <th>final_result</th>\n",
       "      <th>date_registration</th>\n",
       "      <th>disability</th>\n",
       "      <th>gender</th>\n",
       "      <th>age_band</th>\n",
       "      <th>region</th>\n",
       "      <th>highest_education</th>\n",
       "      <th>imd_band</th>\n",
       "      <th>studied_credits</th>\n",
       "      <th>b4_sum_clicks</th>\n",
       "      <th>qtr_sum_clicks</th>\n",
       "      <th>half_sum_clicks</th>\n",
       "      <th>threeqtr_sum_clicks</th>\n",
       "      <th>qtr_half_sum_clicks</th>\n",
       "      <th>half_threeqtr_sum_clicks</th>\n",
       "      <th>thrd_sum_clicks</th>\n",
       "      <th>twothrd_sum_clicks</th>\n",
       "      <th>thrd_twothrd_sum_clicks</th>\n",
       "      <th>allclicks</th>\n",
       "      <th>std_half_score</th>\n",
       "    </tr>\n",
       "  </thead>\n",
       "  <tbody>\n",
       "    <tr>\n",
       "      <th>0</th>\n",
       "      <td>0</td>\n",
       "      <td>0</td>\n",
       "      <td>0</td>\n",
       "      <td>0</td>\n",
       "      <td>1</td>\n",
       "      <td>0</td>\n",
       "      <td>0</td>\n",
       "      <td>0</td>\n",
       "      <td>0</td>\n",
       "      <td>0</td>\n",
       "      <td>0</td>\n",
       "      <td>0</td>\n",
       "      <td>0</td>\n",
       "      <td>0</td>\n",
       "      <td>3733</td>\n",
       "      <td>3</td>\n",
       "      <td>1</td>\n",
       "      <td>261</td>\n",
       "      <td>0</td>\n",
       "      <td>0</td>\n",
       "      <td>0</td>\n",
       "      <td>0</td>\n",
       "      <td>-68.0</td>\n",
       "      <td>0</td>\n",
       "      <td>0</td>\n",
       "      <td>2</td>\n",
       "      <td>3</td>\n",
       "      <td>3</td>\n",
       "      <td>9.0</td>\n",
       "      <td>60</td>\n",
       "      <td>0.0</td>\n",
       "      <td>0.0</td>\n",
       "      <td>0.0</td>\n",
       "      <td>0.0</td>\n",
       "      <td>0.0</td>\n",
       "      <td>0.0</td>\n",
       "      <td>0.0</td>\n",
       "      <td>0.0</td>\n",
       "      <td>0.0</td>\n",
       "      <td>0.0</td>\n",
       "      <td>0.000000</td>\n",
       "    </tr>\n",
       "    <tr>\n",
       "      <th>1</th>\n",
       "      <td>1</td>\n",
       "      <td>1</td>\n",
       "      <td>0</td>\n",
       "      <td>0</td>\n",
       "      <td>0</td>\n",
       "      <td>0</td>\n",
       "      <td>0</td>\n",
       "      <td>0</td>\n",
       "      <td>0</td>\n",
       "      <td>0</td>\n",
       "      <td>0</td>\n",
       "      <td>0</td>\n",
       "      <td>0</td>\n",
       "      <td>0</td>\n",
       "      <td>6516</td>\n",
       "      <td>0</td>\n",
       "      <td>0</td>\n",
       "      <td>269</td>\n",
       "      <td>0</td>\n",
       "      <td>1</td>\n",
       "      <td>0</td>\n",
       "      <td>1</td>\n",
       "      <td>-52.0</td>\n",
       "      <td>0</td>\n",
       "      <td>0</td>\n",
       "      <td>2</td>\n",
       "      <td>0</td>\n",
       "      <td>3</td>\n",
       "      <td>8.0</td>\n",
       "      <td>60</td>\n",
       "      <td>256.0</td>\n",
       "      <td>862.0</td>\n",
       "      <td>1347.0</td>\n",
       "      <td>2066.0</td>\n",
       "      <td>513.0</td>\n",
       "      <td>719.0</td>\n",
       "      <td>1040.0</td>\n",
       "      <td>1875.0</td>\n",
       "      <td>307.0</td>\n",
       "      <td>2791.0</td>\n",
       "      <td>0.564000</td>\n",
       "    </tr>\n",
       "    <tr>\n",
       "      <th>2</th>\n",
       "      <td>2</td>\n",
       "      <td>0</td>\n",
       "      <td>0</td>\n",
       "      <td>1</td>\n",
       "      <td>0</td>\n",
       "      <td>0</td>\n",
       "      <td>0</td>\n",
       "      <td>0</td>\n",
       "      <td>0</td>\n",
       "      <td>0</td>\n",
       "      <td>0</td>\n",
       "      <td>0</td>\n",
       "      <td>0</td>\n",
       "      <td>0</td>\n",
       "      <td>8462</td>\n",
       "      <td>3</td>\n",
       "      <td>1</td>\n",
       "      <td>261</td>\n",
       "      <td>0</td>\n",
       "      <td>0</td>\n",
       "      <td>0</td>\n",
       "      <td>0</td>\n",
       "      <td>-137.0</td>\n",
       "      <td>0</td>\n",
       "      <td>0</td>\n",
       "      <td>2</td>\n",
       "      <td>2</td>\n",
       "      <td>3</td>\n",
       "      <td>3.0</td>\n",
       "      <td>90</td>\n",
       "      <td>81.0</td>\n",
       "      <td>446.0</td>\n",
       "      <td>565.0</td>\n",
       "      <td>565.0</td>\n",
       "      <td>119.0</td>\n",
       "      <td>0.0</td>\n",
       "      <td>525.0</td>\n",
       "      <td>565.0</td>\n",
       "      <td>40.0</td>\n",
       "      <td>646.0</td>\n",
       "      <td>0.581667</td>\n",
       "    </tr>\n",
       "    <tr>\n",
       "      <th>3</th>\n",
       "      <td>3</td>\n",
       "      <td>0</td>\n",
       "      <td>0</td>\n",
       "      <td>1</td>\n",
       "      <td>0</td>\n",
       "      <td>0</td>\n",
       "      <td>0</td>\n",
       "      <td>0</td>\n",
       "      <td>0</td>\n",
       "      <td>0</td>\n",
       "      <td>0</td>\n",
       "      <td>0</td>\n",
       "      <td>0</td>\n",
       "      <td>0</td>\n",
       "      <td>8462</td>\n",
       "      <td>3</td>\n",
       "      <td>1</td>\n",
       "      <td>262</td>\n",
       "      <td>0</td>\n",
       "      <td>1</td>\n",
       "      <td>1</td>\n",
       "      <td>0</td>\n",
       "      <td>-38.0</td>\n",
       "      <td>0</td>\n",
       "      <td>0</td>\n",
       "      <td>2</td>\n",
       "      <td>2</td>\n",
       "      <td>3</td>\n",
       "      <td>3.0</td>\n",
       "      <td>60</td>\n",
       "      <td>0.0</td>\n",
       "      <td>0.0</td>\n",
       "      <td>0.0</td>\n",
       "      <td>0.0</td>\n",
       "      <td>0.0</td>\n",
       "      <td>0.0</td>\n",
       "      <td>0.0</td>\n",
       "      <td>0.0</td>\n",
       "      <td>0.0</td>\n",
       "      <td>0.0</td>\n",
       "      <td>0.860000</td>\n",
       "    </tr>\n",
       "    <tr>\n",
       "      <th>4</th>\n",
       "      <td>4</td>\n",
       "      <td>0</td>\n",
       "      <td>1</td>\n",
       "      <td>0</td>\n",
       "      <td>0</td>\n",
       "      <td>0</td>\n",
       "      <td>0</td>\n",
       "      <td>0</td>\n",
       "      <td>0</td>\n",
       "      <td>0</td>\n",
       "      <td>0</td>\n",
       "      <td>0</td>\n",
       "      <td>0</td>\n",
       "      <td>0</td>\n",
       "      <td>11391</td>\n",
       "      <td>0</td>\n",
       "      <td>0</td>\n",
       "      <td>268</td>\n",
       "      <td>0</td>\n",
       "      <td>0</td>\n",
       "      <td>0</td>\n",
       "      <td>1</td>\n",
       "      <td>-159.0</td>\n",
       "      <td>0</td>\n",
       "      <td>0</td>\n",
       "      <td>2</td>\n",
       "      <td>1</td>\n",
       "      <td>3</td>\n",
       "      <td>9.0</td>\n",
       "      <td>240</td>\n",
       "      <td>98.0</td>\n",
       "      <td>447.0</td>\n",
       "      <td>612.0</td>\n",
       "      <td>650.0</td>\n",
       "      <td>165.0</td>\n",
       "      <td>38.0</td>\n",
       "      <td>489.0</td>\n",
       "      <td>615.0</td>\n",
       "      <td>123.0</td>\n",
       "      <td>934.0</td>\n",
       "      <td>0.816000</td>\n",
       "    </tr>\n",
       "  </tbody>\n",
       "</table>\n",
       "</div>"
      ],
      "text/plain": [
       "   index  Scotland  East Anglian Region  London Region  South Region  \\\n",
       "0      0         0                    0              0             1   \n",
       "1      1         1                    0              0             0   \n",
       "2      2         0                    0              1             0   \n",
       "3      3         0                    0              1             0   \n",
       "4      4         0                    1              0             0   \n",
       "\n",
       "   North Western Region  West Midlands Region  South West Region  \\\n",
       "0                     0                     0                  0   \n",
       "1                     0                     0                  0   \n",
       "2                     0                     0                  0   \n",
       "3                     0                     0                  0   \n",
       "4                     0                     0                  0   \n",
       "\n",
       "   East Midlands Region  South East Region  Wales  Yorkshire Region  \\\n",
       "0                     0                  0      0                 0   \n",
       "1                     0                  0      0                 0   \n",
       "2                     0                  0      0                 0   \n",
       "3                     0                  0      0                 0   \n",
       "4                     0                  0      0                 0   \n",
       "\n",
       "   North Region  Ireland  id_student  code_module  module_domain  \\\n",
       "0             0        0        3733            3              1   \n",
       "1             0        0        6516            0              0   \n",
       "2             0        0        8462            3              1   \n",
       "3             0        0        8462            3              1   \n",
       "4             0        0       11391            0              0   \n",
       "\n",
       "   module_presentation_length  term  year  num_of_prev_attempts  final_result  \\\n",
       "0                         261     0     0                     0             0   \n",
       "1                         269     0     1                     0             1   \n",
       "2                         261     0     0                     0             0   \n",
       "3                         262     0     1                     1             0   \n",
       "4                         268     0     0                     0             1   \n",
       "\n",
       "   date_registration  disability  gender  age_band  region  highest_education  \\\n",
       "0              -68.0           0       0         2       3                  3   \n",
       "1              -52.0           0       0         2       0                  3   \n",
       "2             -137.0           0       0         2       2                  3   \n",
       "3              -38.0           0       0         2       2                  3   \n",
       "4             -159.0           0       0         2       1                  3   \n",
       "\n",
       "   imd_band  studied_credits  b4_sum_clicks  qtr_sum_clicks  half_sum_clicks  \\\n",
       "0       9.0               60            0.0             0.0              0.0   \n",
       "1       8.0               60          256.0           862.0           1347.0   \n",
       "2       3.0               90           81.0           446.0            565.0   \n",
       "3       3.0               60            0.0             0.0              0.0   \n",
       "4       9.0              240           98.0           447.0            612.0   \n",
       "\n",
       "   threeqtr_sum_clicks  qtr_half_sum_clicks  half_threeqtr_sum_clicks  \\\n",
       "0                  0.0                  0.0                       0.0   \n",
       "1               2066.0                513.0                     719.0   \n",
       "2                565.0                119.0                       0.0   \n",
       "3                  0.0                  0.0                       0.0   \n",
       "4                650.0                165.0                      38.0   \n",
       "\n",
       "   thrd_sum_clicks  twothrd_sum_clicks  thrd_twothrd_sum_clicks  allclicks  \\\n",
       "0              0.0                 0.0                      0.0        0.0   \n",
       "1           1040.0              1875.0                    307.0     2791.0   \n",
       "2            525.0               565.0                     40.0      646.0   \n",
       "3              0.0                 0.0                      0.0        0.0   \n",
       "4            489.0               615.0                    123.0      934.0   \n",
       "\n",
       "   std_half_score  \n",
       "0        0.000000  \n",
       "1        0.564000  \n",
       "2        0.581667  \n",
       "3        0.860000  \n",
       "4        0.816000  "
      ]
     },
     "execution_count": 3,
     "metadata": {},
     "output_type": "execute_result"
    }
   ],
   "source": [
    "# connect to \"Dataset\" DB \n",
    "conn = connectDB(\"Dataset\")\n",
    "\n",
    "# extract everything from 'table_name' into a dataframe\n",
    "df = pd_sql.read_sql(f\"select * from public.\\\"FinalData\\\" \", con=conn)\n",
    "pd.set_option('display.max_column',50)\n",
    "df.head()"
   ]
  },
  {
   "cell_type": "markdown",
   "metadata": {},
   "source": [
    "## SVM for Year 2013 STEM Class"
   ]
  },
  {
   "cell_type": "code",
   "execution_count": 19,
   "metadata": {},
   "outputs": [
    {
     "data": {
      "text/html": [
       "<div>\n",
       "<style scoped>\n",
       "    .dataframe tbody tr th:only-of-type {\n",
       "        vertical-align: middle;\n",
       "    }\n",
       "\n",
       "    .dataframe tbody tr th {\n",
       "        vertical-align: top;\n",
       "    }\n",
       "\n",
       "    .dataframe thead th {\n",
       "        text-align: right;\n",
       "    }\n",
       "</style>\n",
       "<table border=\"1\" class=\"dataframe\">\n",
       "  <thead>\n",
       "    <tr style=\"text-align: right;\">\n",
       "      <th></th>\n",
       "      <th>year</th>\n",
       "      <th>term</th>\n",
       "      <th>module_domain</th>\n",
       "      <th>code_module</th>\n",
       "      <th>Scotland</th>\n",
       "      <th>East Anglian Region</th>\n",
       "      <th>London Region</th>\n",
       "      <th>South Region</th>\n",
       "      <th>North Western Region</th>\n",
       "      <th>West Midlands Region</th>\n",
       "      <th>South West Region</th>\n",
       "      <th>East Midlands Region</th>\n",
       "      <th>South East Region</th>\n",
       "      <th>Wales</th>\n",
       "      <th>Yorkshire Region</th>\n",
       "      <th>North Region</th>\n",
       "      <th>gender</th>\n",
       "      <th>disability</th>\n",
       "      <th>b4_sum_clicks</th>\n",
       "      <th>half_sum_clicks</th>\n",
       "      <th>std_half_score</th>\n",
       "      <th>date_registration</th>\n",
       "      <th>age_band</th>\n",
       "      <th>module_presentation_length</th>\n",
       "      <th>num_of_prev_attempts</th>\n",
       "      <th>final_result</th>\n",
       "      <th>highest_education</th>\n",
       "      <th>imd_band</th>\n",
       "      <th>studied_credits</th>\n",
       "    </tr>\n",
       "  </thead>\n",
       "  <tbody>\n",
       "    <tr>\n",
       "      <th>0</th>\n",
       "      <td>0</td>\n",
       "      <td>0</td>\n",
       "      <td>1</td>\n",
       "      <td>3</td>\n",
       "      <td>0</td>\n",
       "      <td>0</td>\n",
       "      <td>0</td>\n",
       "      <td>1</td>\n",
       "      <td>0</td>\n",
       "      <td>0</td>\n",
       "      <td>0</td>\n",
       "      <td>0</td>\n",
       "      <td>0</td>\n",
       "      <td>0</td>\n",
       "      <td>0</td>\n",
       "      <td>0</td>\n",
       "      <td>0</td>\n",
       "      <td>0</td>\n",
       "      <td>0.0</td>\n",
       "      <td>0.0</td>\n",
       "      <td>0.000000</td>\n",
       "      <td>-68.0</td>\n",
       "      <td>2</td>\n",
       "      <td>261</td>\n",
       "      <td>0</td>\n",
       "      <td>0</td>\n",
       "      <td>3</td>\n",
       "      <td>9.0</td>\n",
       "      <td>60</td>\n",
       "    </tr>\n",
       "    <tr>\n",
       "      <th>2</th>\n",
       "      <td>0</td>\n",
       "      <td>0</td>\n",
       "      <td>1</td>\n",
       "      <td>3</td>\n",
       "      <td>0</td>\n",
       "      <td>0</td>\n",
       "      <td>1</td>\n",
       "      <td>0</td>\n",
       "      <td>0</td>\n",
       "      <td>0</td>\n",
       "      <td>0</td>\n",
       "      <td>0</td>\n",
       "      <td>0</td>\n",
       "      <td>0</td>\n",
       "      <td>0</td>\n",
       "      <td>0</td>\n",
       "      <td>0</td>\n",
       "      <td>0</td>\n",
       "      <td>81.0</td>\n",
       "      <td>565.0</td>\n",
       "      <td>0.581667</td>\n",
       "      <td>-137.0</td>\n",
       "      <td>2</td>\n",
       "      <td>261</td>\n",
       "      <td>0</td>\n",
       "      <td>0</td>\n",
       "      <td>3</td>\n",
       "      <td>3.0</td>\n",
       "      <td>90</td>\n",
       "    </tr>\n",
       "    <tr>\n",
       "      <th>9</th>\n",
       "      <td>0</td>\n",
       "      <td>1</td>\n",
       "      <td>1</td>\n",
       "      <td>3</td>\n",
       "      <td>0</td>\n",
       "      <td>1</td>\n",
       "      <td>0</td>\n",
       "      <td>0</td>\n",
       "      <td>0</td>\n",
       "      <td>0</td>\n",
       "      <td>0</td>\n",
       "      <td>0</td>\n",
       "      <td>0</td>\n",
       "      <td>0</td>\n",
       "      <td>0</td>\n",
       "      <td>0</td>\n",
       "      <td>1</td>\n",
       "      <td>0</td>\n",
       "      <td>0.0</td>\n",
       "      <td>0.0</td>\n",
       "      <td>0.000000</td>\n",
       "      <td>-128.0</td>\n",
       "      <td>0</td>\n",
       "      <td>240</td>\n",
       "      <td>0</td>\n",
       "      <td>0</td>\n",
       "      <td>2</td>\n",
       "      <td>4.0</td>\n",
       "      <td>90</td>\n",
       "    </tr>\n",
       "    <tr>\n",
       "      <th>21</th>\n",
       "      <td>0</td>\n",
       "      <td>0</td>\n",
       "      <td>1</td>\n",
       "      <td>5</td>\n",
       "      <td>0</td>\n",
       "      <td>0</td>\n",
       "      <td>0</td>\n",
       "      <td>0</td>\n",
       "      <td>0</td>\n",
       "      <td>0</td>\n",
       "      <td>0</td>\n",
       "      <td>0</td>\n",
       "      <td>1</td>\n",
       "      <td>0</td>\n",
       "      <td>0</td>\n",
       "      <td>0</td>\n",
       "      <td>0</td>\n",
       "      <td>0</td>\n",
       "      <td>111.0</td>\n",
       "      <td>367.0</td>\n",
       "      <td>0.146667</td>\n",
       "      <td>-47.0</td>\n",
       "      <td>1</td>\n",
       "      <td>268</td>\n",
       "      <td>2</td>\n",
       "      <td>0</td>\n",
       "      <td>3</td>\n",
       "      <td>8.0</td>\n",
       "      <td>60</td>\n",
       "    </tr>\n",
       "    <tr>\n",
       "      <th>26</th>\n",
       "      <td>0</td>\n",
       "      <td>0</td>\n",
       "      <td>1</td>\n",
       "      <td>4</td>\n",
       "      <td>0</td>\n",
       "      <td>0</td>\n",
       "      <td>0</td>\n",
       "      <td>0</td>\n",
       "      <td>0</td>\n",
       "      <td>0</td>\n",
       "      <td>0</td>\n",
       "      <td>0</td>\n",
       "      <td>0</td>\n",
       "      <td>1</td>\n",
       "      <td>0</td>\n",
       "      <td>0</td>\n",
       "      <td>0</td>\n",
       "      <td>0</td>\n",
       "      <td>0.0</td>\n",
       "      <td>0.0</td>\n",
       "      <td>0.000000</td>\n",
       "      <td>-61.0</td>\n",
       "      <td>1</td>\n",
       "      <td>268</td>\n",
       "      <td>0</td>\n",
       "      <td>0</td>\n",
       "      <td>1</td>\n",
       "      <td>0.0</td>\n",
       "      <td>30</td>\n",
       "    </tr>\n",
       "  </tbody>\n",
       "</table>\n",
       "</div>"
      ],
      "text/plain": [
       "    year  term  module_domain  code_module  Scotland  East Anglian Region  \\\n",
       "0      0     0              1            3         0                    0   \n",
       "2      0     0              1            3         0                    0   \n",
       "9      0     1              1            3         0                    1   \n",
       "21     0     0              1            5         0                    0   \n",
       "26     0     0              1            4         0                    0   \n",
       "\n",
       "    London Region  South Region  North Western Region  West Midlands Region  \\\n",
       "0               0             1                     0                     0   \n",
       "2               1             0                     0                     0   \n",
       "9               0             0                     0                     0   \n",
       "21              0             0                     0                     0   \n",
       "26              0             0                     0                     0   \n",
       "\n",
       "    South West Region  East Midlands Region  South East Region  Wales  \\\n",
       "0                   0                     0                  0      0   \n",
       "2                   0                     0                  0      0   \n",
       "9                   0                     0                  0      0   \n",
       "21                  0                     0                  1      0   \n",
       "26                  0                     0                  0      1   \n",
       "\n",
       "    Yorkshire Region  North Region  gender  disability  b4_sum_clicks  \\\n",
       "0                  0             0       0           0            0.0   \n",
       "2                  0             0       0           0           81.0   \n",
       "9                  0             0       1           0            0.0   \n",
       "21                 0             0       0           0          111.0   \n",
       "26                 0             0       0           0            0.0   \n",
       "\n",
       "    half_sum_clicks  std_half_score  date_registration  age_band  \\\n",
       "0               0.0        0.000000              -68.0         2   \n",
       "2             565.0        0.581667             -137.0         2   \n",
       "9               0.0        0.000000             -128.0         0   \n",
       "21            367.0        0.146667              -47.0         1   \n",
       "26              0.0        0.000000              -61.0         1   \n",
       "\n",
       "    module_presentation_length  num_of_prev_attempts  final_result  \\\n",
       "0                          261                     0             0   \n",
       "2                          261                     0             0   \n",
       "9                          240                     0             0   \n",
       "21                         268                     2             0   \n",
       "26                         268                     0             0   \n",
       "\n",
       "    highest_education  imd_band  studied_credits  \n",
       "0                   3       9.0               60  \n",
       "2                   3       3.0               90  \n",
       "9                   2       4.0               90  \n",
       "21                  3       8.0               60  \n",
       "26                  1       0.0               30  "
      ]
     },
     "execution_count": 19,
     "metadata": {},
     "output_type": "execute_result"
    }
   ],
   "source": [
    "## Create a temporary data frame for Year 2013 Term J and Term B STEM class\n",
    "tempDf = df[['year','term','module_domain','code_module',\n",
    "             'Scotland','East Anglian Region','London Region','South Region','North Western Region','West Midlands Region',\n",
    "             'South West Region','East Midlands Region','South East Region','Wales','Yorkshire Region','North Region',\n",
    "             'gender','disability','b4_sum_clicks','half_sum_clicks','std_half_score','date_registration','age_band',\n",
    "             'module_presentation_length','num_of_prev_attempts','final_result','highest_education','imd_band','studied_credits']]\n",
    "tempDf = tempDf.loc[(tempDf.year == 0)&(tempDf.module_domain==1)]\n",
    "# Show first 5 observations of the dataset\n",
    "tempDf.head(5)"
   ]
  },
  {
   "cell_type": "code",
   "execution_count": 34,
   "metadata": {},
   "outputs": [],
   "source": [
    "X=tempDf[['term','code_module','Scotland','East Anglian Region','London Region','South Region','North Western Region','West Midlands Region',\n",
    "          'South West Region','East Midlands Region','South East Region','Wales','Yorkshire Region','North Region',\n",
    "          'gender','disability','b4_sum_clicks','half_sum_clicks','std_half_score','date_registration','age_band',\n",
    "          'module_presentation_length','num_of_prev_attempts','highest_education','imd_band','studied_credits']]\n",
    "y=tempDf['final_result']"
   ]
  },
  {
   "cell_type": "code",
   "execution_count": 35,
   "metadata": {},
   "outputs": [],
   "source": [
    "from sklearn.svm import LinearSVC\n",
    "from sklearn.feature_selection import SelectFromModel\n",
    "# Split the dataset to train and test\n",
    "from sklearn.model_selection import train_test_split\n",
    "X_train,X_test,y_train,y_test = train_test_split(X,y,test_size=0.25,random_state=0)"
   ]
  },
  {
   "cell_type": "code",
   "execution_count": 36,
   "metadata": {},
   "outputs": [
    {
     "data": {
      "text/plain": [
       "SelectFromModel(estimator=LinearSVC(C=0.01, class_weight=None, dual=False,\n",
       "                                    fit_intercept=True, intercept_scaling=1,\n",
       "                                    loss='squared_hinge', max_iter=2000,\n",
       "                                    multi_class='ovr', penalty='l1',\n",
       "                                    random_state=None, tol=0.0001, verbose=0),\n",
       "                max_features=None, norm_order=1, prefit=False, threshold=None)"
      ]
     },
     "execution_count": 36,
     "metadata": {},
     "output_type": "execute_result"
    }
   ],
   "source": [
    "sel = SelectFromModel(LinearSVC(C=0.01, penalty=\"l1\", dual=False,max_iter=2000))\n",
    "sel.fit(X_train, y_train)"
   ]
  },
  {
   "cell_type": "code",
   "execution_count": 37,
   "metadata": {},
   "outputs": [
    {
     "data": {
      "text/plain": [
       "9"
      ]
     },
     "execution_count": 37,
     "metadata": {},
     "output_type": "execute_result"
    }
   ],
   "source": [
    "selected_feat= X_train.columns[(sel.get_support())]\n",
    "len(selected_feat)"
   ]
  },
  {
   "cell_type": "code",
   "execution_count": 38,
   "metadata": {},
   "outputs": [
    {
     "name": "stdout",
     "output_type": "stream",
     "text": [
      "Index(['term', 'b4_sum_clicks', 'half_sum_clicks', 'std_half_score',\n",
      "       'date_registration', 'module_presentation_length', 'highest_education',\n",
      "       'imd_band', 'studied_credits'],\n",
      "      dtype='object')\n"
     ]
    }
   ],
   "source": [
    "print(selected_feat)"
   ]
  },
  {
   "cell_type": "code",
   "execution_count": 46,
   "metadata": {},
   "outputs": [],
   "source": [
    "# Define our predictors\n",
    "X=tempDf[['term', 'b4_sum_clicks', 'half_sum_clicks', 'std_half_score',\n",
    "       'date_registration', 'module_presentation_length', 'highest_education', 'imd_band',\n",
    "       'studied_credits']]\n",
    "y=tempDf['final_result']"
   ]
  },
  {
   "cell_type": "code",
   "execution_count": 47,
   "metadata": {},
   "outputs": [],
   "source": [
    "from sklearn.preprocessing import StandardScaler\n",
    "sc = StandardScaler()\n",
    "X_train = sc.fit_transform(X_train)\n",
    "X_test = sc.transform(X_test)"
   ]
  },
  {
   "cell_type": "code",
   "execution_count": 65,
   "metadata": {},
   "outputs": [],
   "source": [
    "# Split the dataset to train and test\n",
    "from sklearn.model_selection import train_test_split\n",
    "X_train,X_test,y_train,y_test = train_test_split(X,y,test_size=0.25,random_state=0)"
   ]
  },
  {
   "cell_type": "code",
   "execution_count": 66,
   "metadata": {},
   "outputs": [
    {
     "data": {
      "text/html": [
       "<div>\n",
       "<style scoped>\n",
       "    .dataframe tbody tr th:only-of-type {\n",
       "        vertical-align: middle;\n",
       "    }\n",
       "\n",
       "    .dataframe tbody tr th {\n",
       "        vertical-align: top;\n",
       "    }\n",
       "\n",
       "    .dataframe thead th {\n",
       "        text-align: right;\n",
       "    }\n",
       "</style>\n",
       "<table border=\"1\" class=\"dataframe\">\n",
       "  <thead>\n",
       "    <tr style=\"text-align: right;\">\n",
       "      <th></th>\n",
       "      <th>term</th>\n",
       "      <th>b4_sum_clicks</th>\n",
       "      <th>half_sum_clicks</th>\n",
       "      <th>std_half_score</th>\n",
       "      <th>date_registration</th>\n",
       "      <th>module_presentation_length</th>\n",
       "      <th>highest_education</th>\n",
       "      <th>imd_band</th>\n",
       "      <th>studied_credits</th>\n",
       "    </tr>\n",
       "  </thead>\n",
       "  <tbody>\n",
       "    <tr>\n",
       "      <th>8679</th>\n",
       "      <td>1</td>\n",
       "      <td>66.0</td>\n",
       "      <td>1747.0</td>\n",
       "      <td>0.755000</td>\n",
       "      <td>-59.0</td>\n",
       "      <td>240</td>\n",
       "      <td>2</td>\n",
       "      <td>9.0</td>\n",
       "      <td>90</td>\n",
       "    </tr>\n",
       "    <tr>\n",
       "      <th>10820</th>\n",
       "      <td>1</td>\n",
       "      <td>4.0</td>\n",
       "      <td>57.0</td>\n",
       "      <td>0.017544</td>\n",
       "      <td>-36.0</td>\n",
       "      <td>240</td>\n",
       "      <td>3</td>\n",
       "      <td>6.0</td>\n",
       "      <td>60</td>\n",
       "    </tr>\n",
       "    <tr>\n",
       "      <th>14362</th>\n",
       "      <td>0</td>\n",
       "      <td>530.0</td>\n",
       "      <td>2938.0</td>\n",
       "      <td>0.933333</td>\n",
       "      <td>-113.0</td>\n",
       "      <td>268</td>\n",
       "      <td>1</td>\n",
       "      <td>8.0</td>\n",
       "      <td>60</td>\n",
       "    </tr>\n",
       "    <tr>\n",
       "      <th>16572</th>\n",
       "      <td>0</td>\n",
       "      <td>385.0</td>\n",
       "      <td>2558.0</td>\n",
       "      <td>0.846667</td>\n",
       "      <td>-60.0</td>\n",
       "      <td>268</td>\n",
       "      <td>2</td>\n",
       "      <td>1.0</td>\n",
       "      <td>120</td>\n",
       "    </tr>\n",
       "    <tr>\n",
       "      <th>10558</th>\n",
       "      <td>1</td>\n",
       "      <td>36.0</td>\n",
       "      <td>560.0</td>\n",
       "      <td>0.452895</td>\n",
       "      <td>-25.0</td>\n",
       "      <td>240</td>\n",
       "      <td>2</td>\n",
       "      <td>0.0</td>\n",
       "      <td>60</td>\n",
       "    </tr>\n",
       "  </tbody>\n",
       "</table>\n",
       "</div>"
      ],
      "text/plain": [
       "       term  b4_sum_clicks  half_sum_clicks  std_half_score  \\\n",
       "8679      1           66.0           1747.0        0.755000   \n",
       "10820     1            4.0             57.0        0.017544   \n",
       "14362     0          530.0           2938.0        0.933333   \n",
       "16572     0          385.0           2558.0        0.846667   \n",
       "10558     1           36.0            560.0        0.452895   \n",
       "\n",
       "       date_registration  module_presentation_length  highest_education  \\\n",
       "8679               -59.0                         240                  2   \n",
       "10820              -36.0                         240                  3   \n",
       "14362             -113.0                         268                  1   \n",
       "16572              -60.0                         268                  2   \n",
       "10558              -25.0                         240                  2   \n",
       "\n",
       "       imd_band  studied_credits  \n",
       "8679        9.0               90  \n",
       "10820       6.0               60  \n",
       "14362       8.0               60  \n",
       "16572       1.0              120  \n",
       "10558       0.0               60  "
      ]
     },
     "execution_count": 66,
     "metadata": {},
     "output_type": "execute_result"
    }
   ],
   "source": [
    "X_train.head(5)"
   ]
  },
  {
   "cell_type": "code",
   "execution_count": 67,
   "metadata": {},
   "outputs": [
    {
     "name": "stderr",
     "output_type": "stream",
     "text": [
      "/Users/yifei/anaconda3/lib/python3.7/site-packages/sklearn/svm/base.py:929: ConvergenceWarning: Liblinear failed to converge, increase the number of iterations.\n",
      "  \"the number of iterations.\", ConvergenceWarning)\n"
     ]
    }
   ],
   "source": [
    "from sklearn.svm import LinearSVC\n",
    "svc = LinearSVC(C=1e9)\n",
    "svc.fit(X_train,y_train)\n",
    "y_pred=svc.predict(X_test)"
   ]
  },
  {
   "cell_type": "code",
   "execution_count": 68,
   "metadata": {},
   "outputs": [
    {
     "name": "stdout",
     "output_type": "stream",
     "text": [
      "              precision    recall  f1-score   support\n",
      "\n",
      "           0       0.83      0.78      0.81      1020\n",
      "           1       0.77      0.83      0.80       927\n",
      "\n",
      "    accuracy                           0.80      1947\n",
      "   macro avg       0.80      0.80      0.80      1947\n",
      "weighted avg       0.81      0.80      0.80      1947\n",
      "\n"
     ]
    }
   ],
   "source": [
    "from sklearn.metrics import classification_report\n",
    "print(classification_report(y_test,y_pred))"
   ]
  },
  {
   "cell_type": "code",
   "execution_count": 69,
   "metadata": {},
   "outputs": [
    {
     "name": "stdout",
     "output_type": "stream",
     "text": [
      "Accuracy:  0.802773497688752\n"
     ]
    }
   ],
   "source": [
    "# Print the Accuracy\n",
    "from sklearn import metrics\n",
    "print('Accuracy: ',metrics.accuracy_score(y_test, y_pred))"
   ]
  },
  {
   "cell_type": "code",
   "execution_count": 70,
   "metadata": {},
   "outputs": [
    {
     "data": {
      "text/plain": [
       "<matplotlib.axes._subplots.AxesSubplot at 0x1a1f9cc390>"
      ]
     },
     "execution_count": 70,
     "metadata": {},
     "output_type": "execute_result"
    },
    {
     "data": {
      "image/png": "[encoded data removed]",
      "text/plain": [
       "<Figure size 432x288 with 2 Axes>"
      ]
     },
     "metadata": {
      "needs_background": "light"
     },
     "output_type": "display_data"
    }
   ],
   "source": [
    "import seaborn as sns\n",
    "from sklearn import metrics\n",
    "confusion_matrix = pd.crosstab(y_test, y_pred, rownames=['Actual'], colnames=['Predicted'])\n",
    "sns.heatmap(confusion_matrix, annot=True,fmt='g')"
   ]
  },
  {
   "cell_type": "code",
   "execution_count": 71,
   "metadata": {},
   "outputs": [],
   "source": [
    "# Predict 2014 Results\n",
    "tempDf2 = df[['year','term','module_domain','code_module',\n",
    "             'Scotland','East Anglian Region','London Region','South Region','North Western Region','West Midlands Region',\n",
    "             'South West Region','East Midlands Region','South East Region','Wales','Yorkshire Region','North Region',\n",
    "             'gender','disability','b4_sum_clicks','half_sum_clicks','std_half_score','date_registration','age_band',\n",
    "             'module_presentation_length','num_of_prev_attempts','final_result','highest_education','imd_band','studied_credits']]\n",
    "tempDf2 = tempDf2.loc[(tempDf2.year == 1)&(tempDf2.module_domain==1)]"
   ]
  },
  {
   "cell_type": "code",
   "execution_count": 72,
   "metadata": {},
   "outputs": [],
   "source": [
    "stemtest = pd.DataFrame(tempDf2,columns= ['term', 'b4_sum_clicks', 'half_sum_clicks', 'std_half_score',\n",
    "       'date_registration', 'module_presentation_length', 'highest_education', 'imd_band',\n",
    "       'studied_credits'])"
   ]
  },
  {
   "cell_type": "code",
   "execution_count": 73,
   "metadata": {},
   "outputs": [],
   "source": [
    "y_pred_stem = svc.predict(stemtest)\n",
    "y_test_stem=tempDf2['final_result']"
   ]
  },
  {
   "cell_type": "code",
   "execution_count": 74,
   "metadata": {},
   "outputs": [
    {
     "data": {
      "text/plain": [
       "<matplotlib.axes._subplots.AxesSubplot at 0x1a1fcb41d0>"
      ]
     },
     "execution_count": 74,
     "metadata": {},
     "output_type": "execute_result"
    },
    {
     "data": {
      "image/png": "[encoded data removed]",
      "text/plain": [
       "<Figure size 432x288 with 2 Axes>"
      ]
     },
     "metadata": {
      "needs_background": "light"
     },
     "output_type": "display_data"
    }
   ],
   "source": [
    "import seaborn as sns\n",
    "from sklearn import metrics\n",
    "confusion_matrix = pd.crosstab(y_test_stem, y_pred_stem, rownames=['Actual'], colnames=['Predicted'])\n",
    "sns.heatmap(confusion_matrix, annot=True,fmt='g')"
   ]
  },
  {
   "cell_type": "code",
   "execution_count": 75,
   "metadata": {},
   "outputs": [
    {
     "name": "stdout",
     "output_type": "stream",
     "text": [
      "Accuracy:  0.8210476038847317\n"
     ]
    }
   ],
   "source": [
    "# Print the Accuracy\n",
    "from sklearn import metrics\n",
    "print('Accuracy: ',metrics.accuracy_score(y_test_stem, y_pred_stem))"
   ]
  },
  {
   "cell_type": "markdown",
   "metadata": {},
   "source": [
    "## SVM for 2013 Social Science Class"
   ]
  },
  {
   "cell_type": "code",
   "execution_count": 5,
   "metadata": {},
   "outputs": [
    {
     "data": {
      "text/html": [
       "<div>\n",
       "<style scoped>\n",
       "    .dataframe tbody tr th:only-of-type {\n",
       "        vertical-align: middle;\n",
       "    }\n",
       "\n",
       "    .dataframe tbody tr th {\n",
       "        vertical-align: top;\n",
       "    }\n",
       "\n",
       "    .dataframe thead th {\n",
       "        text-align: right;\n",
       "    }\n",
       "</style>\n",
       "<table border=\"1\" class=\"dataframe\">\n",
       "  <thead>\n",
       "    <tr style=\"text-align: right;\">\n",
       "      <th></th>\n",
       "      <th>year</th>\n",
       "      <th>term</th>\n",
       "      <th>module_domain</th>\n",
       "      <th>code_module</th>\n",
       "      <th>Scotland</th>\n",
       "      <th>East Anglian Region</th>\n",
       "      <th>London Region</th>\n",
       "      <th>South Region</th>\n",
       "      <th>North Western Region</th>\n",
       "      <th>West Midlands Region</th>\n",
       "      <th>South West Region</th>\n",
       "      <th>East Midlands Region</th>\n",
       "      <th>South East Region</th>\n",
       "      <th>Wales</th>\n",
       "      <th>Yorkshire Region</th>\n",
       "      <th>North Region</th>\n",
       "      <th>gender</th>\n",
       "      <th>disability</th>\n",
       "      <th>b4_sum_clicks</th>\n",
       "      <th>half_sum_clicks</th>\n",
       "      <th>std_half_score</th>\n",
       "      <th>date_registration</th>\n",
       "      <th>age_band</th>\n",
       "      <th>module_presentation_length</th>\n",
       "      <th>num_of_prev_attempts</th>\n",
       "      <th>final_result</th>\n",
       "      <th>highest_education</th>\n",
       "      <th>imd_band</th>\n",
       "      <th>studied_credits</th>\n",
       "    </tr>\n",
       "  </thead>\n",
       "  <tbody>\n",
       "    <tr>\n",
       "      <th>4</th>\n",
       "      <td>0</td>\n",
       "      <td>0</td>\n",
       "      <td>0</td>\n",
       "      <td>0</td>\n",
       "      <td>0</td>\n",
       "      <td>1</td>\n",
       "      <td>0</td>\n",
       "      <td>0</td>\n",
       "      <td>0</td>\n",
       "      <td>0</td>\n",
       "      <td>0</td>\n",
       "      <td>0</td>\n",
       "      <td>0</td>\n",
       "      <td>0</td>\n",
       "      <td>0</td>\n",
       "      <td>0</td>\n",
       "      <td>0</td>\n",
       "      <td>0</td>\n",
       "      <td>98.0</td>\n",
       "      <td>612.0</td>\n",
       "      <td>0.816000</td>\n",
       "      <td>-159.0</td>\n",
       "      <td>2</td>\n",
       "      <td>268</td>\n",
       "      <td>0</td>\n",
       "      <td>1</td>\n",
       "      <td>3</td>\n",
       "      <td>9.0</td>\n",
       "      <td>240</td>\n",
       "    </tr>\n",
       "    <tr>\n",
       "      <th>5</th>\n",
       "      <td>0</td>\n",
       "      <td>1</td>\n",
       "      <td>0</td>\n",
       "      <td>1</td>\n",
       "      <td>0</td>\n",
       "      <td>1</td>\n",
       "      <td>0</td>\n",
       "      <td>0</td>\n",
       "      <td>0</td>\n",
       "      <td>0</td>\n",
       "      <td>0</td>\n",
       "      <td>0</td>\n",
       "      <td>0</td>\n",
       "      <td>0</td>\n",
       "      <td>0</td>\n",
       "      <td>0</td>\n",
       "      <td>1</td>\n",
       "      <td>0</td>\n",
       "      <td>14.0</td>\n",
       "      <td>147.0</td>\n",
       "      <td>0.388140</td>\n",
       "      <td>-47.0</td>\n",
       "      <td>0</td>\n",
       "      <td>240</td>\n",
       "      <td>2</td>\n",
       "      <td>0</td>\n",
       "      <td>1</td>\n",
       "      <td>2.0</td>\n",
       "      <td>60</td>\n",
       "    </tr>\n",
       "    <tr>\n",
       "      <th>6</th>\n",
       "      <td>0</td>\n",
       "      <td>0</td>\n",
       "      <td>0</td>\n",
       "      <td>1</td>\n",
       "      <td>0</td>\n",
       "      <td>1</td>\n",
       "      <td>0</td>\n",
       "      <td>0</td>\n",
       "      <td>0</td>\n",
       "      <td>0</td>\n",
       "      <td>0</td>\n",
       "      <td>0</td>\n",
       "      <td>0</td>\n",
       "      <td>0</td>\n",
       "      <td>0</td>\n",
       "      <td>0</td>\n",
       "      <td>1</td>\n",
       "      <td>0</td>\n",
       "      <td>0.0</td>\n",
       "      <td>0.0</td>\n",
       "      <td>0.000000</td>\n",
       "      <td>-194.0</td>\n",
       "      <td>0</td>\n",
       "      <td>268</td>\n",
       "      <td>0</td>\n",
       "      <td>0</td>\n",
       "      <td>2</td>\n",
       "      <td>4.0</td>\n",
       "      <td>60</td>\n",
       "    </tr>\n",
       "    <tr>\n",
       "      <th>8</th>\n",
       "      <td>0</td>\n",
       "      <td>0</td>\n",
       "      <td>0</td>\n",
       "      <td>1</td>\n",
       "      <td>0</td>\n",
       "      <td>0</td>\n",
       "      <td>0</td>\n",
       "      <td>0</td>\n",
       "      <td>0</td>\n",
       "      <td>0</td>\n",
       "      <td>0</td>\n",
       "      <td>0</td>\n",
       "      <td>0</td>\n",
       "      <td>1</td>\n",
       "      <td>0</td>\n",
       "      <td>0</td>\n",
       "      <td>0</td>\n",
       "      <td>0</td>\n",
       "      <td>6.0</td>\n",
       "      <td>365.0</td>\n",
       "      <td>0.896129</td>\n",
       "      <td>-27.0</td>\n",
       "      <td>0</td>\n",
       "      <td>268</td>\n",
       "      <td>0</td>\n",
       "      <td>1</td>\n",
       "      <td>2</td>\n",
       "      <td>5.0</td>\n",
       "      <td>60</td>\n",
       "    </tr>\n",
       "    <tr>\n",
       "      <th>12</th>\n",
       "      <td>0</td>\n",
       "      <td>1</td>\n",
       "      <td>0</td>\n",
       "      <td>1</td>\n",
       "      <td>0</td>\n",
       "      <td>1</td>\n",
       "      <td>0</td>\n",
       "      <td>0</td>\n",
       "      <td>0</td>\n",
       "      <td>0</td>\n",
       "      <td>0</td>\n",
       "      <td>0</td>\n",
       "      <td>0</td>\n",
       "      <td>0</td>\n",
       "      <td>0</td>\n",
       "      <td>0</td>\n",
       "      <td>1</td>\n",
       "      <td>0</td>\n",
       "      <td>5.0</td>\n",
       "      <td>1465.0</td>\n",
       "      <td>0.630000</td>\n",
       "      <td>-73.0</td>\n",
       "      <td>0</td>\n",
       "      <td>240</td>\n",
       "      <td>0</td>\n",
       "      <td>1</td>\n",
       "      <td>1</td>\n",
       "      <td>2.0</td>\n",
       "      <td>120</td>\n",
       "    </tr>\n",
       "  </tbody>\n",
       "</table>\n",
       "</div>"
      ],
      "text/plain": [
       "    year  term  module_domain  code_module  Scotland  East Anglian Region  \\\n",
       "4      0     0              0            0         0                    1   \n",
       "5      0     1              0            1         0                    1   \n",
       "6      0     0              0            1         0                    1   \n",
       "8      0     0              0            1         0                    0   \n",
       "12     0     1              0            1         0                    1   \n",
       "\n",
       "    London Region  South Region  North Western Region  West Midlands Region  \\\n",
       "4               0             0                     0                     0   \n",
       "5               0             0                     0                     0   \n",
       "6               0             0                     0                     0   \n",
       "8               0             0                     0                     0   \n",
       "12              0             0                     0                     0   \n",
       "\n",
       "    South West Region  East Midlands Region  South East Region  Wales  \\\n",
       "4                   0                     0                  0      0   \n",
       "5                   0                     0                  0      0   \n",
       "6                   0                     0                  0      0   \n",
       "8                   0                     0                  0      1   \n",
       "12                  0                     0                  0      0   \n",
       "\n",
       "    Yorkshire Region  North Region  gender  disability  b4_sum_clicks  \\\n",
       "4                  0             0       0           0           98.0   \n",
       "5                  0             0       1           0           14.0   \n",
       "6                  0             0       1           0            0.0   \n",
       "8                  0             0       0           0            6.0   \n",
       "12                 0             0       1           0            5.0   \n",
       "\n",
       "    half_sum_clicks  std_half_score  date_registration  age_band  \\\n",
       "4             612.0        0.816000             -159.0         2   \n",
       "5             147.0        0.388140              -47.0         0   \n",
       "6               0.0        0.000000             -194.0         0   \n",
       "8             365.0        0.896129              -27.0         0   \n",
       "12           1465.0        0.630000              -73.0         0   \n",
       "\n",
       "    module_presentation_length  num_of_prev_attempts  final_result  \\\n",
       "4                          268                     0             1   \n",
       "5                          240                     2             0   \n",
       "6                          268                     0             0   \n",
       "8                          268                     0             1   \n",
       "12                         240                     0             1   \n",
       "\n",
       "    highest_education  imd_band  studied_credits  \n",
       "4                   3       9.0              240  \n",
       "5                   1       2.0               60  \n",
       "6                   2       4.0               60  \n",
       "8                   2       5.0               60  \n",
       "12                  1       2.0              120  "
      ]
     },
     "execution_count": 5,
     "metadata": {},
     "output_type": "execute_result"
    }
   ],
   "source": [
    "## Create a temporary data frame for Year 2013 Term J and Term B STEM class\n",
    "tempDf2 = df[['year','term','module_domain','code_module',\n",
    "             'Scotland','East Anglian Region','London Region','South Region','North Western Region','West Midlands Region',\n",
    "             'South West Region','East Midlands Region','South East Region','Wales','Yorkshire Region','North Region',\n",
    "             'gender','disability','b4_sum_clicks','half_sum_clicks','std_half_score','date_registration','age_band',\n",
    "             'module_presentation_length','num_of_prev_attempts','final_result','highest_education','imd_band','studied_credits']]\n",
    "tempDf2 = tempDf2.loc[(tempDf2.year == 0)&(tempDf2.module_domain==0)]\n",
    "# Show first 5 observations of the dataset\n",
    "tempDf2.head(5)"
   ]
  },
  {
   "cell_type": "code",
   "execution_count": 6,
   "metadata": {},
   "outputs": [],
   "source": [
    "X=tempDf2[['term','code_module','Scotland','East Anglian Region','London Region','South Region','North Western Region','West Midlands Region',\n",
    "          'South West Region','East Midlands Region','South East Region','Wales','Yorkshire Region','North Region',\n",
    "          'gender','disability','b4_sum_clicks','half_sum_clicks','std_half_score','date_registration','age_band',\n",
    "          'module_presentation_length','num_of_prev_attempts','highest_education','imd_band','studied_credits']]\n",
    "y=tempDf2['final_result']"
   ]
  },
  {
   "cell_type": "code",
   "execution_count": 7,
   "metadata": {},
   "outputs": [],
   "source": [
    "from sklearn.svm import LinearSVC\n",
    "from sklearn.feature_selection import SelectFromModel\n",
    "# Split the dataset to train and test\n",
    "from sklearn.model_selection import train_test_split\n",
    "X_train,X_test,y_train,y_test = train_test_split(X,y,test_size=0.25,random_state=0)"
   ]
  },
  {
   "cell_type": "code",
   "execution_count": 8,
   "metadata": {},
   "outputs": [
    {
     "data": {
      "text/plain": [
       "SelectFromModel(estimator=LinearSVC(C=0.01, class_weight=None, dual=False,\n",
       "                                    fit_intercept=True, intercept_scaling=1,\n",
       "                                    loss='squared_hinge', max_iter=2000,\n",
       "                                    multi_class='ovr', penalty='l1',\n",
       "                                    random_state=None, tol=0.0001, verbose=0),\n",
       "                max_features=None, norm_order=1, prefit=False, threshold=None)"
      ]
     },
     "execution_count": 8,
     "metadata": {},
     "output_type": "execute_result"
    }
   ],
   "source": [
    "sel = SelectFromModel(LinearSVC(C=0.01, penalty=\"l1\", dual=False,max_iter=2000))\n",
    "sel.fit(X_train, y_train)"
   ]
  },
  {
   "cell_type": "code",
   "execution_count": 9,
   "metadata": {},
   "outputs": [
    {
     "data": {
      "text/plain": [
       "9"
      ]
     },
     "execution_count": 9,
     "metadata": {},
     "output_type": "execute_result"
    }
   ],
   "source": [
    "selected_feat= X_train.columns[(sel.get_support())]\n",
    "len(selected_feat)"
   ]
  },
  {
   "cell_type": "code",
   "execution_count": 10,
   "metadata": {},
   "outputs": [
    {
     "name": "stdout",
     "output_type": "stream",
     "text": [
      "Index(['term', 'b4_sum_clicks', 'half_sum_clicks', 'std_half_score',\n",
      "       'date_registration', 'module_presentation_length', 'highest_education',\n",
      "       'imd_band', 'studied_credits'],\n",
      "      dtype='object')\n"
     ]
    }
   ],
   "source": [
    "print(selected_feat)"
   ]
  },
  {
   "cell_type": "code",
   "execution_count": 11,
   "metadata": {},
   "outputs": [],
   "source": [
    "# Define our predictors\n",
    "X=tempDf2[['term', 'b4_sum_clicks', 'half_sum_clicks', 'std_half_score',\n",
    "       'date_registration', 'module_presentation_length', 'highest_education', 'imd_band',\n",
    "       'studied_credits']]\n",
    "y=tempDf2['final_result']"
   ]
  },
  {
   "cell_type": "code",
   "execution_count": 12,
   "metadata": {},
   "outputs": [],
   "source": [
    "from sklearn.preprocessing import StandardScaler\n",
    "sc = StandardScaler()\n",
    "X_train = sc.fit_transform(X_train)\n",
    "X_test = sc.transform(X_test)"
   ]
  },
  {
   "cell_type": "code",
   "execution_count": 13,
   "metadata": {},
   "outputs": [],
   "source": [
    "# Split the dataset to train and test\n",
    "from sklearn.model_selection import train_test_split\n",
    "X_train,X_test,y_train,y_test = train_test_split(X,y,test_size=0.25,random_state=0)"
   ]
  },
  {
   "cell_type": "code",
   "execution_count": 14,
   "metadata": {},
   "outputs": [
    {
     "name": "stderr",
     "output_type": "stream",
     "text": [
      "/Users/yifei/anaconda3/lib/python3.7/site-packages/sklearn/svm/base.py:929: ConvergenceWarning: Liblinear failed to converge, increase the number of iterations.\n",
      "  \"the number of iterations.\", ConvergenceWarning)\n"
     ]
    }
   ],
   "source": [
    "from sklearn.svm import LinearSVC\n",
    "svc = LinearSVC(C=1e9)\n",
    "svc.fit(X_train,y_train)\n",
    "y_pred=svc.predict(X_test)"
   ]
  },
  {
   "cell_type": "code",
   "execution_count": 15,
   "metadata": {},
   "outputs": [
    {
     "name": "stdout",
     "output_type": "stream",
     "text": [
      "              precision    recall  f1-score   support\n",
      "\n",
      "           0       0.80      0.87      0.83       559\n",
      "           1       0.85      0.77      0.80       524\n",
      "\n",
      "    accuracy                           0.82      1083\n",
      "   macro avg       0.82      0.82      0.82      1083\n",
      "weighted avg       0.82      0.82      0.82      1083\n",
      "\n"
     ]
    }
   ],
   "source": [
    "from sklearn.metrics import classification_report\n",
    "print(classification_report(y_test,y_pred))"
   ]
  },
  {
   "cell_type": "code",
   "execution_count": 16,
   "metadata": {},
   "outputs": [
    {
     "name": "stdout",
     "output_type": "stream",
     "text": [
      "Accuracy:  0.8199445983379502\n"
     ]
    }
   ],
   "source": [
    "# Print the Accuracy\n",
    "from sklearn import metrics\n",
    "print('Accuracy: ',metrics.accuracy_score(y_test, y_pred))"
   ]
  },
  {
   "cell_type": "code",
   "execution_count": 18,
   "metadata": {},
   "outputs": [
    {
     "data": {
      "text/plain": [
       "<matplotlib.axes._subplots.AxesSubplot at 0x1a1f8876a0>"
      ]
     },
     "execution_count": 18,
     "metadata": {},
     "output_type": "execute_result"
    },
    {
     "data": {
      "image/png": "[encoded data removed]",
      "text/plain": [
       "<Figure size 432x288 with 2 Axes>"
      ]
     },
     "metadata": {
      "needs_background": "light"
     },
     "output_type": "display_data"
    }
   ],
   "source": [
    "import seaborn as sns\n",
    "from sklearn import metrics\n",
    "confusion_matrix = pd.crosstab(y_test, y_pred, rownames=['Actual'], colnames=['Predicted'])\n",
    "sns.heatmap(confusion_matrix, annot=True, cmap='Blues', fmt='g')"
   ]
  },
  {
   "cell_type": "markdown",
   "metadata": {},
   "source": [
    "## SVM for combined STEM and Social Science"
   ]
  },
  {
   "cell_type": "code",
   "execution_count": 127,
   "metadata": {},
   "outputs": [
    {
     "data": {
      "text/html": [
       "<div>\n",
       "<style scoped>\n",
       "    .dataframe tbody tr th:only-of-type {\n",
       "        vertical-align: middle;\n",
       "    }\n",
       "\n",
       "    .dataframe tbody tr th {\n",
       "        vertical-align: top;\n",
       "    }\n",
       "\n",
       "    .dataframe thead th {\n",
       "        text-align: right;\n",
       "    }\n",
       "</style>\n",
       "<table border=\"1\" class=\"dataframe\">\n",
       "  <thead>\n",
       "    <tr style=\"text-align: right;\">\n",
       "      <th></th>\n",
       "      <th>year</th>\n",
       "      <th>term</th>\n",
       "      <th>code_module</th>\n",
       "      <th>module_domain</th>\n",
       "      <th>Scotland</th>\n",
       "      <th>East Anglian Region</th>\n",
       "      <th>London Region</th>\n",
       "      <th>South Region</th>\n",
       "      <th>North Western Region</th>\n",
       "      <th>West Midlands Region</th>\n",
       "      <th>South West Region</th>\n",
       "      <th>East Midlands Region</th>\n",
       "      <th>South East Region</th>\n",
       "      <th>Wales</th>\n",
       "      <th>Yorkshire Region</th>\n",
       "      <th>North Region</th>\n",
       "      <th>gender</th>\n",
       "      <th>disability</th>\n",
       "      <th>std_half_score</th>\n",
       "      <th>half_sum_clicks</th>\n",
       "      <th>b4_sum_clicks</th>\n",
       "      <th>age_band</th>\n",
       "      <th>module_presentation_length</th>\n",
       "      <th>num_of_prev_attempts</th>\n",
       "      <th>final_result</th>\n",
       "      <th>highest_education</th>\n",
       "      <th>imd_band</th>\n",
       "      <th>studied_credits</th>\n",
       "      <th>date_registration</th>\n",
       "    </tr>\n",
       "  </thead>\n",
       "  <tbody>\n",
       "    <tr>\n",
       "      <th>0</th>\n",
       "      <td>0</td>\n",
       "      <td>0</td>\n",
       "      <td>3</td>\n",
       "      <td>1</td>\n",
       "      <td>0</td>\n",
       "      <td>0</td>\n",
       "      <td>0</td>\n",
       "      <td>1</td>\n",
       "      <td>0</td>\n",
       "      <td>0</td>\n",
       "      <td>0</td>\n",
       "      <td>0</td>\n",
       "      <td>0</td>\n",
       "      <td>0</td>\n",
       "      <td>0</td>\n",
       "      <td>0</td>\n",
       "      <td>0</td>\n",
       "      <td>0</td>\n",
       "      <td>0.000000</td>\n",
       "      <td>0.0</td>\n",
       "      <td>0.0</td>\n",
       "      <td>2</td>\n",
       "      <td>261</td>\n",
       "      <td>0</td>\n",
       "      <td>0</td>\n",
       "      <td>3</td>\n",
       "      <td>9.0</td>\n",
       "      <td>60</td>\n",
       "      <td>-68.0</td>\n",
       "    </tr>\n",
       "    <tr>\n",
       "      <th>2</th>\n",
       "      <td>0</td>\n",
       "      <td>0</td>\n",
       "      <td>3</td>\n",
       "      <td>1</td>\n",
       "      <td>0</td>\n",
       "      <td>0</td>\n",
       "      <td>1</td>\n",
       "      <td>0</td>\n",
       "      <td>0</td>\n",
       "      <td>0</td>\n",
       "      <td>0</td>\n",
       "      <td>0</td>\n",
       "      <td>0</td>\n",
       "      <td>0</td>\n",
       "      <td>0</td>\n",
       "      <td>0</td>\n",
       "      <td>0</td>\n",
       "      <td>0</td>\n",
       "      <td>0.581667</td>\n",
       "      <td>565.0</td>\n",
       "      <td>81.0</td>\n",
       "      <td>2</td>\n",
       "      <td>261</td>\n",
       "      <td>0</td>\n",
       "      <td>0</td>\n",
       "      <td>3</td>\n",
       "      <td>3.0</td>\n",
       "      <td>90</td>\n",
       "      <td>-137.0</td>\n",
       "    </tr>\n",
       "    <tr>\n",
       "      <th>4</th>\n",
       "      <td>0</td>\n",
       "      <td>0</td>\n",
       "      <td>0</td>\n",
       "      <td>0</td>\n",
       "      <td>0</td>\n",
       "      <td>1</td>\n",
       "      <td>0</td>\n",
       "      <td>0</td>\n",
       "      <td>0</td>\n",
       "      <td>0</td>\n",
       "      <td>0</td>\n",
       "      <td>0</td>\n",
       "      <td>0</td>\n",
       "      <td>0</td>\n",
       "      <td>0</td>\n",
       "      <td>0</td>\n",
       "      <td>0</td>\n",
       "      <td>0</td>\n",
       "      <td>0.816000</td>\n",
       "      <td>612.0</td>\n",
       "      <td>98.0</td>\n",
       "      <td>2</td>\n",
       "      <td>268</td>\n",
       "      <td>0</td>\n",
       "      <td>1</td>\n",
       "      <td>3</td>\n",
       "      <td>9.0</td>\n",
       "      <td>240</td>\n",
       "      <td>-159.0</td>\n",
       "    </tr>\n",
       "    <tr>\n",
       "      <th>5</th>\n",
       "      <td>0</td>\n",
       "      <td>1</td>\n",
       "      <td>1</td>\n",
       "      <td>0</td>\n",
       "      <td>0</td>\n",
       "      <td>1</td>\n",
       "      <td>0</td>\n",
       "      <td>0</td>\n",
       "      <td>0</td>\n",
       "      <td>0</td>\n",
       "      <td>0</td>\n",
       "      <td>0</td>\n",
       "      <td>0</td>\n",
       "      <td>0</td>\n",
       "      <td>0</td>\n",
       "      <td>0</td>\n",
       "      <td>1</td>\n",
       "      <td>0</td>\n",
       "      <td>0.388140</td>\n",
       "      <td>147.0</td>\n",
       "      <td>14.0</td>\n",
       "      <td>0</td>\n",
       "      <td>240</td>\n",
       "      <td>2</td>\n",
       "      <td>0</td>\n",
       "      <td>1</td>\n",
       "      <td>2.0</td>\n",
       "      <td>60</td>\n",
       "      <td>-47.0</td>\n",
       "    </tr>\n",
       "    <tr>\n",
       "      <th>6</th>\n",
       "      <td>0</td>\n",
       "      <td>0</td>\n",
       "      <td>1</td>\n",
       "      <td>0</td>\n",
       "      <td>0</td>\n",
       "      <td>1</td>\n",
       "      <td>0</td>\n",
       "      <td>0</td>\n",
       "      <td>0</td>\n",
       "      <td>0</td>\n",
       "      <td>0</td>\n",
       "      <td>0</td>\n",
       "      <td>0</td>\n",
       "      <td>0</td>\n",
       "      <td>0</td>\n",
       "      <td>0</td>\n",
       "      <td>1</td>\n",
       "      <td>0</td>\n",
       "      <td>0.000000</td>\n",
       "      <td>0.0</td>\n",
       "      <td>0.0</td>\n",
       "      <td>0</td>\n",
       "      <td>268</td>\n",
       "      <td>0</td>\n",
       "      <td>0</td>\n",
       "      <td>2</td>\n",
       "      <td>4.0</td>\n",
       "      <td>60</td>\n",
       "      <td>-194.0</td>\n",
       "    </tr>\n",
       "  </tbody>\n",
       "</table>\n",
       "</div>"
      ],
      "text/plain": [
       "   year  term  code_module  module_domain  Scotland  East Anglian Region  \\\n",
       "0     0     0            3              1         0                    0   \n",
       "2     0     0            3              1         0                    0   \n",
       "4     0     0            0              0         0                    1   \n",
       "5     0     1            1              0         0                    1   \n",
       "6     0     0            1              0         0                    1   \n",
       "\n",
       "   London Region  South Region  North Western Region  West Midlands Region  \\\n",
       "0              0             1                     0                     0   \n",
       "2              1             0                     0                     0   \n",
       "4              0             0                     0                     0   \n",
       "5              0             0                     0                     0   \n",
       "6              0             0                     0                     0   \n",
       "\n",
       "   South West Region  East Midlands Region  South East Region  Wales  \\\n",
       "0                  0                     0                  0      0   \n",
       "2                  0                     0                  0      0   \n",
       "4                  0                     0                  0      0   \n",
       "5                  0                     0                  0      0   \n",
       "6                  0                     0                  0      0   \n",
       "\n",
       "   Yorkshire Region  North Region  gender  disability  std_half_score  \\\n",
       "0                 0             0       0           0        0.000000   \n",
       "2                 0             0       0           0        0.581667   \n",
       "4                 0             0       0           0        0.816000   \n",
       "5                 0             0       1           0        0.388140   \n",
       "6                 0             0       1           0        0.000000   \n",
       "\n",
       "   half_sum_clicks  b4_sum_clicks  age_band  module_presentation_length  \\\n",
       "0              0.0            0.0         2                         261   \n",
       "2            565.0           81.0         2                         261   \n",
       "4            612.0           98.0         2                         268   \n",
       "5            147.0           14.0         0                         240   \n",
       "6              0.0            0.0         0                         268   \n",
       "\n",
       "   num_of_prev_attempts  final_result  highest_education  imd_band  \\\n",
       "0                     0             0                  3       9.0   \n",
       "2                     0             0                  3       3.0   \n",
       "4                     0             1                  3       9.0   \n",
       "5                     2             0                  1       2.0   \n",
       "6                     0             0                  2       4.0   \n",
       "\n",
       "   studied_credits  date_registration  \n",
       "0               60              -68.0  \n",
       "2               90             -137.0  \n",
       "4              240             -159.0  \n",
       "5               60              -47.0  \n",
       "6               60             -194.0  "
      ]
     },
     "execution_count": 127,
     "metadata": {},
     "output_type": "execute_result"
    }
   ],
   "source": [
    "ComtempDf = df[['year','term','code_module','module_domain','Scotland','East Anglian Region','London Region','South Region','North Western Region','West Midlands Region','South West Region','East Midlands Region','South East Region','Wales','Yorkshire Region','North Region','gender','disability','std_half_score','half_sum_clicks','b4_sum_clicks','age_band','module_presentation_length','num_of_prev_attempts','final_result','highest_education','imd_band','studied_credits','date_registration']]\n",
    "ComtempDf = ComtempDf.loc[(ComtempDf.year == 0)]\n",
    "# Show first 20 observations of the dataset, this is the combine dataset for 2013 STEM and Social Science Class\n",
    "ComtempDf.head(5)"
   ]
  },
  {
   "cell_type": "code",
   "execution_count": 128,
   "metadata": {},
   "outputs": [
    {
     "data": {
      "text/plain": [
       "year                          12118\n",
       "term                          12118\n",
       "code_module                   12118\n",
       "module_domain                 12118\n",
       "Scotland                      12118\n",
       "East Anglian Region           12118\n",
       "London Region                 12118\n",
       "South Region                  12118\n",
       "North Western Region          12118\n",
       "West Midlands Region          12118\n",
       "South West Region             12118\n",
       "East Midlands Region          12118\n",
       "South East Region             12118\n",
       "Wales                         12118\n",
       "Yorkshire Region              12118\n",
       "North Region                  12118\n",
       "gender                        12118\n",
       "disability                    12118\n",
       "std_half_score                12118\n",
       "half_sum_clicks               12118\n",
       "b4_sum_clicks                 12118\n",
       "age_band                      12118\n",
       "module_presentation_length    12118\n",
       "num_of_prev_attempts          12118\n",
       "final_result                  12118\n",
       "highest_education             12118\n",
       "imd_band                      12118\n",
       "studied_credits               12118\n",
       "date_registration             12118\n",
       "dtype: int64"
      ]
     },
     "execution_count": 128,
     "metadata": {},
     "output_type": "execute_result"
    }
   ],
   "source": [
    "ComtempDf.count()"
   ]
  },
  {
   "cell_type": "code",
   "execution_count": 129,
   "metadata": {},
   "outputs": [],
   "source": [
    "X=ComtempDf[['term','code_module','Scotland','East Anglian Region','London Region','South Region','North Western Region','West Midlands Region',\n",
    "          'South West Region','East Midlands Region','South East Region','Wales','Yorkshire Region','North Region',\n",
    "          'gender','disability','b4_sum_clicks','half_sum_clicks','std_half_score','date_registration','age_band',\n",
    "          'module_presentation_length','num_of_prev_attempts','highest_education','imd_band','studied_credits']]\n",
    "y=ComtempDf['final_result']"
   ]
  },
  {
   "cell_type": "code",
   "execution_count": 130,
   "metadata": {},
   "outputs": [],
   "source": [
    "from sklearn.svm import LinearSVC\n",
    "from sklearn.feature_selection import SelectFromModel\n",
    "# Split the dataset to train and test\n",
    "from sklearn.model_selection import train_test_split\n",
    "X_train,X_test,y_train,y_test = train_test_split(X,y,test_size=0.25,random_state=0)"
   ]
  },
  {
   "cell_type": "code",
   "execution_count": 131,
   "metadata": {},
   "outputs": [
    {
     "data": {
      "text/plain": [
       "SelectFromModel(estimator=LinearSVC(C=0.01, class_weight=None, dual=False,\n",
       "                                    fit_intercept=True, intercept_scaling=1,\n",
       "                                    loss='squared_hinge', max_iter=2000,\n",
       "                                    multi_class='ovr', penalty='l1',\n",
       "                                    random_state=None, tol=0.0001, verbose=0),\n",
       "                max_features=None, norm_order=1, prefit=False, threshold=None)"
      ]
     },
     "execution_count": 131,
     "metadata": {},
     "output_type": "execute_result"
    }
   ],
   "source": [
    "sel = SelectFromModel(LinearSVC(C=0.01, penalty=\"l1\", dual=False,max_iter=2000))\n",
    "sel.fit(X_train, y_train)"
   ]
  },
  {
   "cell_type": "code",
   "execution_count": 132,
   "metadata": {},
   "outputs": [
    {
     "data": {
      "text/plain": [
       "11"
      ]
     },
     "execution_count": 132,
     "metadata": {},
     "output_type": "execute_result"
    }
   ],
   "source": [
    "selected_feat= X_train.columns[(sel.get_support())]\n",
    "len(selected_feat)"
   ]
  },
  {
   "cell_type": "code",
   "execution_count": 133,
   "metadata": {},
   "outputs": [
    {
     "name": "stdout",
     "output_type": "stream",
     "text": [
      "Index(['term', 'code_module', 'b4_sum_clicks', 'half_sum_clicks',\n",
      "       'std_half_score', 'date_registration', 'module_presentation_length',\n",
      "       'num_of_prev_attempts', 'highest_education', 'imd_band',\n",
      "       'studied_credits'],\n",
      "      dtype='object')\n"
     ]
    }
   ],
   "source": [
    "print(selected_feat)"
   ]
  },
  {
   "cell_type": "code",
   "execution_count": 134,
   "metadata": {},
   "outputs": [],
   "source": [
    "# Define our predictors\n",
    "X=ComtempDf[['term','code_module','b4_sum_clicks', 'half_sum_clicks', 'std_half_score',\n",
    "       'date_registration', 'module_presentation_length', 'num_of_prev_attempts','highest_education', 'imd_band',\n",
    "       'studied_credits']]\n",
    "y=ComtempDf['final_result']"
   ]
  },
  {
   "cell_type": "code",
   "execution_count": 135,
   "metadata": {},
   "outputs": [],
   "source": [
    "from sklearn.preprocessing import StandardScaler\n",
    "sc = StandardScaler()\n",
    "X_train = sc.fit_transform(X_train)\n",
    "X_test = sc.transform(X_test)"
   ]
  },
  {
   "cell_type": "code",
   "execution_count": 140,
   "metadata": {},
   "outputs": [],
   "source": [
    "# Split the dataset to train and test\n",
    "from sklearn.model_selection import train_test_split\n",
    "X_train,X_test,y_train,y_test = train_test_split(X,y,test_size=0.25,random_state=0)"
   ]
  },
  {
   "cell_type": "code",
   "execution_count": 141,
   "metadata": {},
   "outputs": [
    {
     "name": "stderr",
     "output_type": "stream",
     "text": [
      "/Users/yifei/anaconda3/lib/python3.7/site-packages/sklearn/svm/base.py:929: ConvergenceWarning: Liblinear failed to converge, increase the number of iterations.\n",
      "  \"the number of iterations.\", ConvergenceWarning)\n"
     ]
    }
   ],
   "source": [
    "from sklearn.svm import LinearSVC\n",
    "svc = LinearSVC(C=1e9)\n",
    "svc.fit(X_train,y_train)\n",
    "y_pred=svc.predict(X_test)"
   ]
  },
  {
   "cell_type": "code",
   "execution_count": 142,
   "metadata": {},
   "outputs": [
    {
     "name": "stdout",
     "output_type": "stream",
     "text": [
      "              precision    recall  f1-score   support\n",
      "\n",
      "           0       0.80      0.90      0.85      1618\n",
      "           1       0.87      0.75      0.80      1412\n",
      "\n",
      "    accuracy                           0.83      3030\n",
      "   macro avg       0.83      0.82      0.83      3030\n",
      "weighted avg       0.83      0.83      0.83      3030\n",
      "\n"
     ]
    }
   ],
   "source": [
    "from sklearn.metrics import classification_report\n",
    "print(classification_report(y_test,y_pred))"
   ]
  },
  {
   "cell_type": "code",
   "execution_count": 143,
   "metadata": {},
   "outputs": [
    {
     "data": {
      "text/plain": [
       "<matplotlib.axes._subplots.AxesSubplot at 0x1a20185470>"
      ]
     },
     "execution_count": 143,
     "metadata": {},
     "output_type": "execute_result"
    },
    {
     "data": {
      "image/png": "[encoded data removed]",
      "text/plain": [
       "<Figure size 432x288 with 2 Axes>"
      ]
     },
     "metadata": {
      "needs_background": "light"
     },
     "output_type": "display_data"
    }
   ],
   "source": [
    "import seaborn as sns\n",
    "from sklearn import metrics\n",
    "confusion_matrix = pd.crosstab(y_test, y_pred, rownames=['Actual'], colnames=['Predicted'])\n",
    "sns.heatmap(confusion_matrix, annot=True,fmt='g')"
   ]
  },
  {
   "cell_type": "code",
   "execution_count": 154,
   "metadata": {},
   "outputs": [
    {
     "name": "stdout",
     "output_type": "stream",
     "text": [
      "Accuracy:  0.8283828382838284\n"
     ]
    }
   ],
   "source": [
    "# Print the Accuracy\n",
    "from sklearn import metrics\n",
    "print('Accuracy: ',metrics.accuracy_score(y_test, y_pred))"
   ]
  },
  {
   "cell_type": "code",
   "execution_count": 158,
   "metadata": {},
   "outputs": [],
   "source": [
    "# Function to plot accuracy\n",
    "from sklearn.model_selection import learning_curve\n",
    "import numpy as np\n",
    "def plot_accuracy(model):\n",
    "\n",
    "    train_sizes, train_scores, test_scores = learning_curve(model, X_train, y_train, n_jobs=-1, train_sizes=np.linspace(.1, 1.0, 5), verbose=0)\n",
    "\n",
    "    train_mean = np.mean(train_scores, axis=1)\n",
    "    train_std = np.std(train_scores, axis=1)\n",
    "    test_mean = np.mean(test_scores, axis=1)\n",
    "    test_std = np.std(test_scores, axis=1)\n",
    "    \n",
    "    plt.figure()\n",
    "    plt.gca().invert_yaxis()\n",
    "    plt.grid()\n",
    "    plt.ylim(0.0, 1.1)\n",
    "    plt.title(\"Accuracy Plot\")\n",
    "    plt.xlabel(\"Testing\")\n",
    "    plt.ylabel(\"Accuracy %\")\n",
    "\n",
    "    plt.fill_between(train_sizes, test_mean - test_std, test_mean + test_std, alpha=0.1)\n",
    "        \n",
    "    plt.plot(train_sizes, test_mean, 'bo-', color = \"r\", label=\"Test Score\")\n"
   ]
  },
  {
   "cell_type": "code",
   "execution_count": 159,
   "metadata": {},
   "outputs": [
    {
     "name": "stderr",
     "output_type": "stream",
     "text": [
      "/Users/yifei/anaconda3/lib/python3.7/site-packages/sklearn/model_selection/_split.py:1978: FutureWarning: The default value of cv will change from 3 to 5 in version 0.22. Specify it explicitly to silence this warning.\n",
      "  warnings.warn(CV_WARNING, FutureWarning)\n"
     ]
    },
    {
     "data": {
      "image/png": "[encoded data removed]",
      "text/plain": [
       "<Figure size 432x288 with 1 Axes>"
      ]
     },
     "metadata": {
      "needs_background": "light"
     },
     "output_type": "display_data"
    }
   ],
   "source": [
    "plot_accuracy(svc)"
   ]
  },
  {
   "cell_type": "code",
   "execution_count": 145,
   "metadata": {},
   "outputs": [],
   "source": [
    "# Predict 2014 Results\n",
    "ComtempDf2 = df[['year','term','code_module','Scotland','East Anglian Region','London Region','South Region','North Western Region',\n",
    "          'West Midlands Region','South West Region','East Midlands Region','South East Region','Wales',\n",
    "          'Yorkshire Region','North Region','gender','disability','b4_sum_clicks','half_sum_clicks','std_half_score',\n",
    "          'date_registration','age_band','module_presentation_length','num_of_prev_attempts','highest_education','imd_band','studied_credits','final_result']]\n",
    "ComtempDf2 = ComtempDf2.loc[(ComtempDf2.year == 1)]"
   ]
  },
  {
   "cell_type": "code",
   "execution_count": 149,
   "metadata": {},
   "outputs": [],
   "source": [
    "comtest = pd.DataFrame(ComtempDf2,columns= [ 'term','code_module','b4_sum_clicks', 'half_sum_clicks', 'std_half_score',\n",
    "       'date_registration', 'module_presentation_length', 'num_of_prev_attempts','highest_education', 'imd_band',\n",
    "       'studied_credits'])"
   ]
  },
  {
   "cell_type": "code",
   "execution_count": 150,
   "metadata": {},
   "outputs": [],
   "source": [
    "y_pred_new = svc.predict(comtest)\n",
    "y_test_new=ComtempDf2['final_result']"
   ]
  },
  {
   "cell_type": "code",
   "execution_count": 151,
   "metadata": {},
   "outputs": [
    {
     "name": "stdout",
     "output_type": "stream",
     "text": [
      "Accuracy:  0.8052644116245832\n"
     ]
    }
   ],
   "source": [
    "# Print the Accuracy\n",
    "from sklearn import metrics\n",
    "print('Accuracy: ',metrics.accuracy_score(y_test_new, y_pred_new))"
   ]
  },
  {
   "cell_type": "code",
   "execution_count": 152,
   "metadata": {},
   "outputs": [
    {
     "name": "stdout",
     "output_type": "stream",
     "text": [
      "              precision    recall  f1-score   support\n",
      "\n",
      "           0       0.78      0.90      0.84      9327\n",
      "           1       0.85      0.69      0.76      7465\n",
      "\n",
      "    accuracy                           0.81     16792\n",
      "   macro avg       0.81      0.79      0.80     16792\n",
      "weighted avg       0.81      0.81      0.80     16792\n",
      "\n"
     ]
    }
   ],
   "source": [
    "from sklearn.metrics import classification_report\n",
    "print(classification_report(y_test_new,y_pred_new))"
   ]
  },
  {
   "cell_type": "code",
   "execution_count": 153,
   "metadata": {},
   "outputs": [
    {
     "data": {
      "text/plain": [
       "<matplotlib.axes._subplots.AxesSubplot at 0x1a204f6048>"
      ]
     },
     "execution_count": 153,
     "metadata": {},
     "output_type": "execute_result"
    },
    {
     "data": {
      "image/png": "[encoded data removed]",
      "text/plain": [
       "<Figure size 432x288 with 2 Axes>"
      ]
     },
     "metadata": {
      "needs_background": "light"
     },
     "output_type": "display_data"
    }
   ],
   "source": [
    "import seaborn as sns\n",
    "from sklearn import metrics\n",
    "confusion_matrix = pd.crosstab(y_test_new, y_pred_new, rownames=['Actual'], colnames=['Predicted'])\n",
    "sns.heatmap(confusion_matrix, annot=True,fmt='g')"
   ]
  },
  {
   "cell_type": "code",
   "execution_count": null,
   "metadata": {},
   "outputs": [],
   "source": []
  }
 ],
 "metadata": {
  "kernelspec": {
   "display_name": "Python 3",
   "language": "python",
   "name": "python3"
  },
  "language_info": {
   "codemirror_mode": {
    "name": "ipython",
    "version": 3
   },
   "file_extension": ".py",
   "mimetype": "text/x-python",
   "name": "python",
   "nbconvert_exporter": "python",
   "pygments_lexer": "ipython3",
   "version": "3.7.3"
  }
 },
 "nbformat": 4,
 "nbformat_minor": 2
}
